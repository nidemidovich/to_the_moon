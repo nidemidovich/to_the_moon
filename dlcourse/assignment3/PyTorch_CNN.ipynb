{
  "nbformat": 4,
  "nbformat_minor": 0,
  "metadata": {
    "accelerator": "GPU",
    "colab": {
      "name": "PyTorch_CNN.ipynb",
      "provenance": [],
      "collapsed_sections": []
    },
    "kernelspec": {
      "display_name": "Python 3",
      "language": "python",
      "name": "python3"
    },
    "language_info": {
      "codemirror_mode": {
        "name": "ipython",
        "version": 3
      },
      "file_extension": ".py",
      "mimetype": "text/x-python",
      "name": "python",
      "nbconvert_exporter": "python",
      "pygments_lexer": "ipython3",
      "version": "3.8.8"
    }
  },
  "cells": [
    {
      "cell_type": "markdown",
      "metadata": {
        "id": "qIAExvfCkvVM"
      },
      "source": [
        "# Задание 3.2 - сверточные нейронные сети (CNNs) в PyTorch\n",
        "\n",
        "Это упражнение мы буде выполнять в Google Colab - https://colab.research.google.com/  \n",
        "Google Colab позволяет запускать код в notebook в облаке Google, где можно воспользоваться бесплатным GPU!  \n",
        "\n",
        "Авторы курса благодарят компанию Google и надеятся, что праздник не закончится.\n",
        "\n",
        "Туториал по настройке Google Colab:  \n",
        "https://medium.com/deep-learning-turkey/google-colab-free-gpu-tutorial-e113627b9f5d  \n",
        "(Keras инсталлировать не нужно, наш notebook сам установит PyTorch)\n"
      ]
    },
    {
      "cell_type": "code",
      "metadata": {
        "colab": {
          "base_uri": "https://localhost:8080/"
        },
        "id": "FcXBeP1O7cnY",
        "outputId": "79ea3f5d-c1f0-4f66-cfae-1743e54748c9"
      },
      "source": [
        "# Intstall PyTorch and download data\n",
        "!pip3 install torch torchvision\n",
        "\n",
        "!wget -c http://ufldl.stanford.edu/housenumbers/train_32x32.mat http://ufldl.stanford.edu/housenumbers/test_32x32.mat"
      ],
      "execution_count": null,
      "outputs": [
        {
          "output_type": "stream",
          "text": [
            "Requirement already satisfied: torch in /usr/local/lib/python3.7/dist-packages (1.9.0+cu102)\n",
            "Requirement already satisfied: torchvision in /usr/local/lib/python3.7/dist-packages (0.10.0+cu102)\n",
            "Requirement already satisfied: typing-extensions in /usr/local/lib/python3.7/dist-packages (from torch) (3.7.4.3)\n",
            "Requirement already satisfied: pillow>=5.3.0 in /usr/local/lib/python3.7/dist-packages (from torchvision) (7.1.2)\n",
            "Requirement already satisfied: numpy in /usr/local/lib/python3.7/dist-packages (from torchvision) (1.19.5)\n",
            "--2021-07-20 10:31:01--  http://ufldl.stanford.edu/housenumbers/train_32x32.mat\n",
            "Resolving ufldl.stanford.edu (ufldl.stanford.edu)... 171.64.68.10\n",
            "Connecting to ufldl.stanford.edu (ufldl.stanford.edu)|171.64.68.10|:80... connected.\n",
            "HTTP request sent, awaiting response... 200 OK\n",
            "Length: 182040794 (174M) [text/plain]\n",
            "Saving to: ‘train_32x32.mat’\n",
            "\n",
            "train_32x32.mat     100%[===================>] 173.61M  93.9MB/s    in 1.8s    \n",
            "\n",
            "2021-07-20 10:31:03 (93.9 MB/s) - ‘train_32x32.mat’ saved [182040794/182040794]\n",
            "\n",
            "--2021-07-20 10:31:03--  http://ufldl.stanford.edu/housenumbers/test_32x32.mat\n",
            "Reusing existing connection to ufldl.stanford.edu:80.\n",
            "HTTP request sent, awaiting response... 200 OK\n",
            "Length: 64275384 (61M) [text/plain]\n",
            "Saving to: ‘test_32x32.mat’\n",
            "\n",
            "test_32x32.mat      100%[===================>]  61.30M   103MB/s    in 0.6s    \n",
            "\n",
            "2021-07-20 10:31:04 (103 MB/s) - ‘test_32x32.mat’ saved [64275384/64275384]\n",
            "\n",
            "FINISHED --2021-07-20 10:31:04--\n",
            "Total wall clock time: 2.6s\n",
            "Downloaded: 2 files, 235M in 2.4s (96.1 MB/s)\n"
          ],
          "name": "stdout"
        }
      ]
    },
    {
      "cell_type": "code",
      "metadata": {
        "id": "-afwWw-Q85vD"
      },
      "source": [
        "from collections import namedtuple\n",
        "\n",
        "import matplotlib.pyplot as plt\n",
        "import numpy as np\n",
        "import PIL\n",
        "import torch\n",
        "import torch.nn as nn\n",
        "import torch.optim as optim\n",
        "import torchvision.datasets as dset\n",
        "from torch.utils.data.sampler import SubsetRandomSampler\n",
        "\n",
        "from torchvision import transforms"
      ],
      "execution_count": null,
      "outputs": []
    },
    {
      "cell_type": "code",
      "metadata": {
        "id": "NNU-OD9O9ltP"
      },
      "source": [
        "device = torch.device(\"cuda:0\") # Let's make sure GPU is available!"
      ],
      "execution_count": null,
      "outputs": []
    },
    {
      "cell_type": "markdown",
      "metadata": {
        "id": "4Oew16N8kvVW"
      },
      "source": [
        "# Загружаем данные"
      ]
    },
    {
      "cell_type": "code",
      "metadata": {
        "id": "YAvkoRx-9FsP"
      },
      "source": [
        "# First, lets load the dataset\n",
        "data_train = dset.SVHN('./', \n",
        "                       transform=transforms.Compose([\n",
        "                           transforms.ToTensor(),\n",
        "                           transforms.Normalize(mean=[0.43,0.44,0.47],\n",
        "                                               std=[0.20,0.20,0.20])                           \n",
        "                       ])\n",
        "                      )\n",
        "data_test = dset.SVHN('./', split='test', transform=transforms.Compose([\n",
        "                           transforms.ToTensor(),\n",
        "                           transforms.Normalize(mean=[0.43,0.44,0.47],\n",
        "                                               std=[0.20,0.20,0.20])                           \n",
        "                       ]))"
      ],
      "execution_count": null,
      "outputs": []
    },
    {
      "cell_type": "markdown",
      "metadata": {
        "id": "ZIwPBL84kvVY"
      },
      "source": [
        "Разделяем данные на training и validation.\n",
        "\n",
        "На всякий случай для подробностей - https://pytorch.org/tutorials/beginner/data_loading_tutorial.html"
      ]
    },
    {
      "cell_type": "code",
      "metadata": {
        "id": "YRnr8CPg7Hli"
      },
      "source": [
        "batch_size = 64\n",
        "\n",
        "data_size = data_train.data.shape[0]\n",
        "validation_split = .2\n",
        "split = int(np.floor(validation_split * data_size))\n",
        "indices = list(range(data_size))\n",
        "np.random.shuffle(indices)\n",
        "\n",
        "train_indices, val_indices = indices[split:], indices[:split]\n",
        "\n",
        "train_sampler = SubsetRandomSampler(train_indices)\n",
        "val_sampler = SubsetRandomSampler(val_indices)\n",
        "\n",
        "train_loader = torch.utils.data.DataLoader(data_train, batch_size=batch_size, \n",
        "                                           sampler=train_sampler)\n",
        "val_loader = torch.utils.data.DataLoader(data_train, batch_size=batch_size,\n",
        "                                         sampler=val_sampler)"
      ],
      "execution_count": null,
      "outputs": []
    },
    {
      "cell_type": "code",
      "metadata": {
        "id": "LyYvt-T67PBG"
      },
      "source": [
        "# We'll use a special helper module to shape it into a flat tensor\n",
        "class Flattener(nn.Module):\n",
        "    def forward(self, x):\n",
        "        batch_size, *_ = x.shape\n",
        "        return x.view(batch_size, -1)"
      ],
      "execution_count": null,
      "outputs": []
    },
    {
      "cell_type": "markdown",
      "metadata": {
        "id": "q5gD5CNxkvVc"
      },
      "source": [
        "Создадим простейшую сеть с новыми слоями:  \n",
        "Convolutional - `nn.Conv2d`  \n",
        "MaxPool - `nn.MaxPool2d`"
      ]
    },
    {
      "cell_type": "code",
      "metadata": {
        "id": "w9SFVGZP7SQd"
      },
      "source": [
        "nn_model = nn.Sequential(\n",
        "            nn.Conv2d(3, 64, 3, padding=1),\n",
        "            nn.ReLU(inplace=True),\n",
        "            nn.MaxPool2d(4),\n",
        "            nn.Conv2d(64, 64, 3, padding=1),\n",
        "            nn.ReLU(inplace=True),\n",
        "            nn.MaxPool2d(4),    \n",
        "            Flattener(),\n",
        "            nn.Linear(64*2*2, 10),\n",
        "          )\n",
        "\n",
        "nn_model.type(torch.cuda.FloatTensor)\n",
        "nn_model.to(device)\n",
        "\n",
        "loss = nn.CrossEntropyLoss().type(torch.cuda.FloatTensor)\n",
        "optimizer = optim.SGD(nn_model.parameters(), lr=1e-1, weight_decay=1e-4)"
      ],
      "execution_count": null,
      "outputs": []
    },
    {
      "cell_type": "markdown",
      "metadata": {
        "id": "CIgqcqcikvVe"
      },
      "source": [
        "Восстановите функцию `compute_accuracy` из прошлого задания.  \n",
        "Единственное отличие в новом - она должна передать данные на GPU прежде чем прогонять через модель. Сделайте это так же, как это делает функция `train_model`"
      ]
    },
    {
      "cell_type": "code",
      "metadata": {
        "id": "A8gmFp2KlsR9"
      },
      "source": [
        "def compute_accuracy(model, loader):\n",
        "    \"\"\"\n",
        "    Computes accuracy on the dataset wrapped in a loader\n",
        "    \n",
        "    Returns: accuracy as a float value between 0 and 1\n",
        "    \"\"\"\n",
        "    # Evaluation mode\n",
        "    model.eval()\n",
        "    \n",
        "    correct = 0\n",
        "    total = 0\n",
        "    for x, y in loader:\n",
        "\n",
        "        x_gpu = x.to(device)\n",
        "        y_gpu = y.to(device)\n",
        "\n",
        "        preds = torch.argmax(model(x_gpu), 1)\n",
        "        correct += torch.sum(preds == y_gpu)\n",
        "        total += y_gpu.shape[0]\n",
        "    \n",
        "    return correct / total"
      ],
      "execution_count": null,
      "outputs": []
    },
    {
      "cell_type": "code",
      "metadata": {
        "id": "2ek3KVQK7hJ6"
      },
      "source": [
        "def train_model(model, train_loader, val_loader, loss, optimizer, num_epochs, scheduler=None):    \n",
        "    loss_history = []\n",
        "    train_history = []\n",
        "    val_history = []\n",
        "    for epoch in range(num_epochs):\n",
        "        model.train() # Enter train mode\n",
        "        \n",
        "        loss_accum = 0\n",
        "        correct_samples = 0\n",
        "        total_samples = 0\n",
        "        for i_step, (x, y) in enumerate(train_loader):\n",
        "          \n",
        "            x_gpu = x.to(device)\n",
        "            y_gpu = y.to(device)\n",
        "            prediction = model(x_gpu)    \n",
        "            loss_value = loss(prediction, y_gpu)\n",
        "            optimizer.zero_grad()\n",
        "            loss_value.backward()\n",
        "            optimizer.step()\n",
        "            \n",
        "            _, indices = torch.max(prediction, 1)\n",
        "            correct_samples += torch.sum(indices == y_gpu)\n",
        "            total_samples += y.shape[0]\n",
        "            \n",
        "            loss_accum += loss_value\n",
        "\n",
        "        ave_loss = loss_accum / i_step\n",
        "        train_accuracy = float(correct_samples) / total_samples\n",
        "        val_accuracy = compute_accuracy(model, val_loader)\n",
        "        \n",
        "        loss_history.append(float(ave_loss))\n",
        "        train_history.append(train_accuracy)\n",
        "        val_history.append(val_accuracy)\n",
        "\n",
        "        if scheduler:\n",
        "            scheduler.step()\n",
        "        \n",
        "        print(\"Average loss: %f, Train accuracy: %f, Val accuracy: %f\" % (ave_loss, train_accuracy, val_accuracy))\n",
        "        \n",
        "    return loss_history, train_history, val_history"
      ],
      "execution_count": null,
      "outputs": []
    },
    {
      "cell_type": "code",
      "metadata": {
        "colab": {
          "base_uri": "https://localhost:8080/"
        },
        "id": "DjyV5PiMmX44",
        "outputId": "2b613133-b99d-4d07-ea1c-4a96fdc713de"
      },
      "source": [
        "loss_history, train_history, val_history = train_model(nn_model, train_loader, val_loader, loss, optimizer, 5)"
      ],
      "execution_count": null,
      "outputs": [
        {
          "output_type": "stream",
          "text": [
            "/usr/local/lib/python3.7/dist-packages/torch/nn/functional.py:718: UserWarning: Named tensors and all their associated APIs are an experimental feature and subject to change. Please do not use them for anything important until they are released as stable. (Triggered internally at  /pytorch/c10/core/TensorImpl.h:1156.)\n",
            "  return torch.max_pool2d(input, kernel_size, stride, padding, dilation, ceil_mode)\n"
          ],
          "name": "stderr"
        },
        {
          "output_type": "stream",
          "text": [
            "Average loss: 1.372163, Train accuracy: 0.541566, Val accuracy: 0.738516\n",
            "Average loss: 0.697305, Train accuracy: 0.788793, Val accuracy: 0.799195\n",
            "Average loss: 0.593399, Train accuracy: 0.823550, Val accuracy: 0.803085\n",
            "Average loss: 0.547889, Train accuracy: 0.837099, Val accuracy: 0.822538\n",
            "Average loss: 0.513325, Train accuracy: 0.850203, Val accuracy: 0.817896\n"
          ],
          "name": "stdout"
        }
      ]
    },
    {
      "cell_type": "markdown",
      "metadata": {
        "id": "6a-3a1ZFGEw_"
      },
      "source": [
        "# Аугментация данных (Data augmentation)\n",
        "\n",
        "В работе с изображениями одним из особенно важных методов является аугментация данных - то есть, генерация дополнительных данных для тренировки на основе изначальных.   \n",
        "Таким образом, мы получаем возможность \"увеличить\" набор данных для тренировки, что ведет к лучшей работе сети.\n",
        "Важно, чтобы аугментированные данные были похожи на те, которые могут встретиться в реальной жизни, иначе польза от аугментаций уменьшается и может ухудшить работу сети.\n",
        "\n",
        "С PyTorch идут несколько таких алгоритмов, называемых `transforms`. Более подробно про них можно прочитать тут -\n",
        "https://pytorch.org/tutorials/beginner/data_loading_tutorial.html#transforms\n",
        "\n",
        "Ниже мы используем следующие алгоритмы генерации:\n",
        "- ColorJitter - случайное изменение цвета\n",
        "- RandomHorizontalFlip - горизонтальное отражение с вероятностью 50%\n",
        "- RandomVerticalFlip - вертикальное отражение с вероятностью 50%\n",
        "- RandomRotation - случайный поворот"
      ]
    },
    {
      "cell_type": "code",
      "metadata": {
        "id": "jCWMUWmr7t5g",
        "colab": {
          "base_uri": "https://localhost:8080/"
        },
        "outputId": "58e5a4f4-12c1-4940-dff9-fb65851c4555"
      },
      "source": [
        "tfs = transforms.Compose([\n",
        "    transforms.ColorJitter(hue=.50, saturation=.50),\n",
        "    transforms.RandomHorizontalFlip(),\n",
        "    transforms.RandomVerticalFlip(),\n",
        "    transforms.RandomRotation(50, resample=PIL.Image.BILINEAR),\n",
        "    transforms.ToTensor(),\n",
        "    transforms.Normalize(mean=[0.43,0.44,0.47],\n",
        "                       std=[0.20,0.20,0.20])                           \n",
        "])\n",
        "\n",
        "# Create augmented train dataset\n",
        "data_aug_train = dset.SVHN('./', \n",
        "                       transform=tfs\n",
        "                      )\n",
        "\n",
        "train_aug_loader = torch.utils.data.DataLoader(data_aug_train, batch_size=batch_size, \n",
        "                                           sampler=train_sampler)"
      ],
      "execution_count": null,
      "outputs": [
        {
          "output_type": "stream",
          "text": [
            "/usr/local/lib/python3.7/dist-packages/torchvision/transforms/transforms.py:1231: UserWarning: Argument resample is deprecated and will be removed since v0.10.0. Please, use interpolation instead\n",
            "  \"Argument resample is deprecated and will be removed since v0.10.0. Please, use interpolation instead\"\n"
          ],
          "name": "stderr"
        }
      ]
    },
    {
      "cell_type": "markdown",
      "metadata": {
        "id": "hcLilWvCkvVh"
      },
      "source": [
        "Визуализируем результаты агментации (вообще, смотреть на сгенерированные данные всегда очень полезно)."
      ]
    },
    {
      "cell_type": "code",
      "metadata": {
        "id": "YlJJEro1KZ45",
        "colab": {
          "base_uri": "https://localhost:8080/",
          "height": 424
        },
        "outputId": "00c02834-eebe-48f1-ce3c-9cead8f581b9"
      },
      "source": [
        "# TODO: Visualize some augmented images!\n",
        "# hint: you can create new datasets and loaders to accomplish this\n",
        "\n",
        "# Based on the visualizations, should we keep all the augmentations?\n",
        "fig = plt.figure(figsize=(25, 3))\n",
        "fig.suptitle('\\nOriginal images', fontsize=16)\n",
        "for i, (x, y) in enumerate(dset.SVHN('./')):\n",
        "    if i == 10:\n",
        "        break\n",
        "    plt.subplot(1, 10, i+1)\n",
        "    plt.grid(False)\n",
        "    plt.imshow(x)\n",
        "    plt.axis('off')\n",
        "\n",
        "\n",
        "tfs = transforms.Compose([\n",
        "    transforms.ColorJitter(hue=.20, saturation=.20),\n",
        "    # transforms.RandomHorizontalFlip(),\n",
        "    # transforms.RandomVerticalFlip(),\n",
        "    transforms.RandomRotation(10, resample=PIL.Image.BILINEAR),\n",
        "])\n",
        "\n",
        "data_aug_vis = dset.SVHN('./', \n",
        "                       transform=tfs\n",
        "                      )\n",
        "\n",
        "fig = plt.figure(figsize=(25, 3))\n",
        "fig.suptitle('\\nAugmented images', fontsize=16)\n",
        "for i, (x, y) in enumerate(data_aug_vis):\n",
        "    if i == 10:\n",
        "        break\n",
        "    plt.subplot(1, 10, i+1)\n",
        "    plt.grid(False)\n",
        "    plt.imshow(x)\n",
        "    plt.axis('off')"
      ],
      "execution_count": null,
      "outputs": [
        {
          "output_type": "stream",
          "text": [
            "/usr/local/lib/python3.7/dist-packages/torchvision/transforms/transforms.py:1231: UserWarning: Argument resample is deprecated and will be removed since v0.10.0. Please, use interpolation instead\n",
            "  \"Argument resample is deprecated and will be removed since v0.10.0. Please, use interpolation instead\"\n"
          ],
          "name": "stderr"
        },
        {
          "output_type": "display_data",
          "data": {
            "image/png": "[encoded data removed]",
            "text/plain": [
              "<Figure size 1800x216 with 10 Axes>"
            ]
          },
          "metadata": {
            "tags": [],
            "needs_background": "light"
          }
        },
        {
          "output_type": "display_data",
          "data": {
            "image/png": "[encoded data removed]",
            "text/plain": [
              "<Figure size 1800x216 with 10 Axes>"
            ]
          },
          "metadata": {
            "tags": [],
            "needs_background": "light"
          }
        }
      ]
    },
    {
      "cell_type": "markdown",
      "metadata": {
        "id": "o2LrmsYHoguB"
      },
      "source": [
        "Все ли агментации одинаково полезны на этом наборе данных? Могут ли быть среди них те, которые собьют модель с толку?\n",
        "\n",
        "Выберите из них только корректные"
      ]
    },
    {
      "cell_type": "code",
      "metadata": {
        "id": "evro9ksXGs9u",
        "colab": {
          "base_uri": "https://localhost:8080/"
        },
        "outputId": "4fa4bb56-c0b0-44d5-e682-5c3a3bcff008"
      },
      "source": [
        "tfs = transforms.Compose([\n",
        "    transforms.ColorJitter(hue=.20, saturation=.20),\n",
        "    transforms.RandomRotation(10, resample=PIL.Image.BILINEAR),\n",
        "    transforms.ToTensor(),\n",
        "    transforms.Normalize(mean=[0.43,0.44,0.47],\n",
        "                         std=[0.20,0.20,0.20])                           \n",
        "])\n",
        "\n",
        "data_aug_train = dset.SVHN(root='./', transform=tfs)\n",
        "\n",
        "train_aug_loader = torch.utils.data.DataLoader(dataset=data_aug_train, \n",
        "                                               batch_size=batch_size, \n",
        "                                               sampler=train_sampler)"
      ],
      "execution_count": null,
      "outputs": [
        {
          "output_type": "stream",
          "text": [
            "/usr/local/lib/python3.7/dist-packages/torchvision/transforms/transforms.py:1231: UserWarning: Argument resample is deprecated and will be removed since v0.10.0. Please, use interpolation instead\n",
            "  \"Argument resample is deprecated and will be removed since v0.10.0. Please, use interpolation instead\"\n"
          ],
          "name": "stderr"
        }
      ]
    },
    {
      "cell_type": "code",
      "metadata": {
        "id": "PeO6Zw0DHqPR",
        "colab": {
          "base_uri": "https://localhost:8080/"
        },
        "outputId": "2056cfd4-f6bb-4ed8-d3a8-59cc1bcd73bd"
      },
      "source": [
        "# Finally, let's train with augmentations!\n",
        "\n",
        "# Note we shouldn't use augmentations on validation\n",
        "\n",
        "loss_history, train_history, val_history = train_model(nn_model, train_aug_loader, val_loader, loss, optimizer, 5)"
      ],
      "execution_count": null,
      "outputs": [
        {
          "output_type": "stream",
          "text": [
            "Average loss: 0.617050, Train accuracy: 0.813005, Val accuracy: 0.819057\n",
            "Average loss: 0.559060, Train accuracy: 0.830171, Val accuracy: 0.802266\n",
            "Average loss: 0.543055, Train accuracy: 0.835751, Val accuracy: 0.829841\n",
            "Average loss: 0.521288, Train accuracy: 0.842559, Val accuracy: 0.830114\n",
            "Average loss: 0.511050, Train accuracy: 0.846569, Val accuracy: 0.834960\n"
          ],
          "name": "stdout"
        }
      ]
    },
    {
      "cell_type": "markdown",
      "metadata": {
        "id": "r0bcioK6JBDK"
      },
      "source": [
        "# LeNet\n",
        "Попробуем имплементировать классическую архитектуру сверточной нейронной сети, предложенную Яном ЛеКуном в 1998 году. В свое время она достигла впечатляющих результатов на MNIST, посмотрим как она справится с SVHN?\n",
        "Она описана в статье [\"Gradient Based Learning Applied to Document Recognition\"](http://yann.lecun.com/exdb/publis/pdf/lecun-01a.pdf), попробуйте прочитать ключевые части и имплементировать предложенную архитетуру на PyTorch.\n",
        "\n",
        "Реализовывать слои и функцию ошибки LeNet, которых нет в PyTorch, **не нужно** - просто возьмите их размеры и переведите в уже известные нам Convolutional, Pooling и Fully Connected layers.\n",
        "\n",
        "Если в статье не очень понятно, можно просто погуглить LeNet и разобраться в деталях :)"
      ]
    },
    {
      "cell_type": "code",
      "metadata": {
        "id": "ieEzZUglJAUB"
      },
      "source": [
        "lenet_model = nn.Sequential(\n",
        "    nn.Conv2d(in_channels=3, out_channels=6, kernel_size=5),\n",
        "    nn.Tanh(),\n",
        "    nn.MaxPool2d(kernel_size=2),\n",
        "    nn.Conv2d(in_channels=6, out_channels=16, kernel_size=5),\n",
        "    nn.Tanh(),\n",
        "    nn.MaxPool2d(kernel_size=2),\n",
        "    Flattener(),\n",
        "    nn.Linear(in_features=5*5*16, out_features=120),\n",
        "    nn.Linear(in_features=120, out_features=84),\n",
        "    nn.Linear(in_features=84, out_features=10)\n",
        ")\n",
        "\n",
        "lenet_model.type(torch.cuda.FloatTensor)\n",
        "lenet_model.to(device)\n",
        "\n",
        "loss = nn.CrossEntropyLoss().type(torch.cuda.FloatTensor)\n",
        "optimizer = optim.SGD(lenet_model.parameters(), lr=1e-1, weight_decay=1e-4)"
      ],
      "execution_count": null,
      "outputs": []
    },
    {
      "cell_type": "code",
      "metadata": {
        "id": "WMmaPfdeKk9H",
        "colab": {
          "base_uri": "https://localhost:8080/"
        },
        "outputId": "f3e854c0-764c-4a1b-b917-249ba555f324"
      },
      "source": [
        "# Let's train it!\n",
        "loss_history, train_history, val_history = train_model(lenet_model, train_aug_loader, val_loader, loss, optimizer, 10)"
      ],
      "execution_count": null,
      "outputs": [
        {
          "output_type": "stream",
          "text": [
            "Average loss: 1.203298, Train accuracy: 0.597294, Val accuracy: 0.813596\n",
            "Average loss: 0.601230, Train accuracy: 0.815138, Val accuracy: 0.842809\n",
            "Average loss: 0.548600, Train accuracy: 0.831638, Val accuracy: 0.855709\n",
            "Average loss: 0.522126, Train accuracy: 0.842405, Val accuracy: 0.847519\n",
            "Average loss: 0.510057, Train accuracy: 0.846108, Val accuracy: 0.860829\n",
            "Average loss: 0.492569, Train accuracy: 0.851210, Val accuracy: 0.860010\n",
            "Average loss: 0.484692, Train accuracy: 0.854401, Val accuracy: 0.864514\n",
            "Average loss: 0.476210, Train accuracy: 0.854998, Val accuracy: 0.858849\n",
            "Average loss: 0.473811, Train accuracy: 0.856312, Val accuracy: 0.866221\n",
            "Average loss: 0.468664, Train accuracy: 0.858052, Val accuracy: 0.870384\n"
          ],
          "name": "stdout"
        }
      ]
    },
    {
      "cell_type": "markdown",
      "metadata": {
        "id": "u_O9qiYySvuj"
      },
      "source": [
        "# Подбор гиперпараметров"
      ]
    },
    {
      "cell_type": "code",
      "metadata": {
        "colab": {
          "base_uri": "https://localhost:8080/"
        },
        "id": "QSMgDkOi4Ett",
        "outputId": "88eb9aa9-5fd4-4316-c68f-4fff7f859d1e"
      },
      "source": [
        "model = nn.Sequential(\n",
        "    # Input: 3@32x32\n",
        "    nn.Conv2d(in_channels=3, out_channels=16, kernel_size=5, padding=2),\n",
        "    nn.BatchNorm2d(num_features=16),\n",
        "    nn.Tanh(),\n",
        "    # Res: 16@32x32\n",
        "    nn.MaxPool2d(kernel_size=2),\n",
        "    # Res: 16@16x16\n",
        "    nn.Conv2d(in_channels=16, out_channels=32, kernel_size=3),\n",
        "    nn.BatchNorm2d(num_features=32),\n",
        "    nn.Tanh(),\n",
        "    # Res: 32@14x14\n",
        "    nn.MaxPool2d(kernel_size=2),\n",
        "    # Res: 32@7x7\n",
        "    nn.Conv2d(in_channels=32, out_channels=64, kernel_size=3),\n",
        "    nn.BatchNorm2d(num_features=64),\n",
        "    nn.Tanh(),\n",
        "    # Res: 64@5X5\n",
        "    Flattener(),\n",
        "\n",
        "    nn.Linear(in_features=5*5*64, out_features=120),\n",
        "    nn.BatchNorm1d(num_features=120),\n",
        "    nn.ReLU(inplace=True),\n",
        "\n",
        "    nn.Linear(in_features=120, out_features=84),\n",
        "    nn.BatchNorm1d(num_features=84),\n",
        "    nn.ReLU(inplace=True),\n",
        "\n",
        "    nn.Linear(in_features=84, out_features=10)\n",
        ")\n",
        "\n",
        "model.type(torch.cuda.FloatTensor)\n",
        "model.to(device)\n",
        "\n",
        "loss = nn.CrossEntropyLoss().type(torch.cuda.FloatTensor)\n",
        "optimizer = optim.SGD(model.parameters(), lr=1e-1, weight_decay=1e-4)\n",
        "\n",
        "loss_history, train_history, val_history = train_model(model, train_aug_loader, val_loader, loss, optimizer, 10)"
      ],
      "execution_count": null,
      "outputs": [
        {
          "output_type": "stream",
          "text": [
            "Average loss: 0.758303, Train accuracy: 0.759188, Val accuracy: 0.870384\n",
            "Average loss: 0.431753, Train accuracy: 0.867949, Val accuracy: 0.893045\n",
            "Average loss: 0.366043, Train accuracy: 0.887878, Val accuracy: 0.904034\n",
            "Average loss: 0.332044, Train accuracy: 0.899567, Val accuracy: 0.906150\n",
            "Average loss: 0.302971, Train accuracy: 0.906580, Val accuracy: 0.910040\n",
            "Average loss: 0.281875, Train accuracy: 0.913592, Val accuracy: 0.915296\n",
            "Average loss: 0.265429, Train accuracy: 0.918217, Val accuracy: 0.914545\n",
            "Average loss: 0.250237, Train accuracy: 0.924820, Val accuracy: 0.919391\n",
            "Average loss: 0.238164, Train accuracy: 0.927670, Val accuracy: 0.915842\n",
            "Average loss: 0.226292, Train accuracy: 0.932481, Val accuracy: 0.917275\n"
          ],
          "name": "stdout"
        }
      ]
    },
    {
      "cell_type": "code",
      "metadata": {
        "id": "wy1rF_phYvOc"
      },
      "source": [
        "# The key hyperparameters we're going to tune are learning speed, annealing rate and regularization\n",
        "# We also encourage you to try different optimizers as well\n",
        "\n",
        "# Hyperparams = namedtuple(\"Hyperparams\", ['learning_rate', 'anneal_epochs', 'reg'])\n",
        "Hyperparams = namedtuple(\"Hyperparams\", ['learning_rate', 'reg'])\n",
        "RunResult = namedtuple(\"RunResult\", ['model', 'train_history', 'val_history', 'final_val_accuracy'])\n",
        "\n",
        "learning_rates = [1e0, 1e-1, 1e-2, 1e-3, 1e-4]\n",
        "# anneal_coeff = 0.2\n",
        "# anneal_epochs = [1, 5, 10, 15, 20, 50]\n",
        "reg_strengths = [1e-3, 1e-4, 1e-5, 1e-7]\n",
        "\n",
        "batch_size = 64\n",
        "epoch_num = 10\n",
        "\n",
        "# Record all the runs here\n",
        "# Key should be Hyperparams and values should be RunResult\n",
        "run_record = {} \n",
        "\n",
        "def param_search(run_record, learning_rates, reg_strengths, num_epochs=10):\n",
        "  for lr in learning_rates:\n",
        "    for reg in reg_strengths:\n",
        "      \n",
        "      model = nn.Sequential(\n",
        "        # Input: 3@32x32\n",
        "        nn.Conv2d(in_channels=3, out_channels=16, kernel_size=5, padding=2),\n",
        "        nn.BatchNorm2d(num_features=16),\n",
        "        nn.Tanh(),\n",
        "        # Res: 16@32x32\n",
        "        nn.MaxPool2d(kernel_size=2),\n",
        "        # Res: 16@16x16\n",
        "        nn.Conv2d(in_channels=16, out_channels=32, kernel_size=3),\n",
        "        nn.BatchNorm2d(num_features=32),\n",
        "        nn.Tanh(),\n",
        "        # Res: 32@14x14\n",
        "        nn.MaxPool2d(kernel_size=2),\n",
        "        # Res: 32@7x7\n",
        "        nn.Conv2d(in_channels=32, out_channels=64, kernel_size=3),\n",
        "        nn.BatchNorm2d(num_features=64),\n",
        "        nn.Tanh(),\n",
        "        # Res: 64@5X5\n",
        "        Flattener(),\n",
        "\n",
        "        nn.Linear(in_features=5*5*64, out_features=120),\n",
        "        nn.BatchNorm1d(num_features=120),\n",
        "        nn.ReLU(inplace=True),\n",
        "\n",
        "        nn.Linear(in_features=120, out_features=84),\n",
        "        nn.BatchNorm1d(num_features=84),\n",
        "        nn.ReLU(inplace=True),\n",
        "\n",
        "        nn.Linear(in_features=84, out_features=10)\n",
        "      )\n",
        "      \n",
        "      model.type(torch.cuda.FloatTensor)\n",
        "      model.to(device)\n",
        "\n",
        "      loss = nn.CrossEntropyLoss().type(torch.cuda.FloatTensor)\n",
        "      optimizer = optim.SGD(model.parameters(), lr=lr, weight_decay=reg)\n",
        "\n",
        "      params = Hyperparams(lr, reg)\n",
        "\n",
        "      loss_history, train_history, val_history = train_model(model, train_aug_loader, val_loader, loss, optimizer, num_epochs)\n",
        "\n",
        "      run_results = RunResult(model, train_history, val_history, val_history[-1])\n",
        "\n",
        "      run_record[params] = run_results\n",
        "\n",
        "      print('\\n\\n')"
      ],
      "execution_count": null,
      "outputs": []
    },
    {
      "cell_type": "code",
      "metadata": {
        "id": "i6mhfdQ9K-N3",
        "colab": {
          "base_uri": "https://localhost:8080/"
        },
        "outputId": "e2f79066-9d67-4def-ba7b-ce24cd2b7610"
      },
      "source": [
        "# Use grid search or random search and record all runs in run_record dictionnary \n",
        "# Important: perform search in logarithmic space!\n",
        "\n",
        "param_search(run_record=run_record, learning_rates=learning_rates, reg_strengths=reg)"
      ],
      "execution_count": null,
      "outputs": [
        {
          "output_type": "stream",
          "text": [
            "Average loss: 0.856512, Train accuracy: 0.721530, Val accuracy: 0.843901\n",
            "Average loss: 0.525944, Train accuracy: 0.836058, Val accuracy: 0.857075\n",
            "Average loss: 0.498745, Train accuracy: 0.844453, Val accuracy: 0.854276\n",
            "Average loss: 0.479893, Train accuracy: 0.852575, Val accuracy: 0.869292\n",
            "Average loss: 0.471364, Train accuracy: 0.853018, Val accuracy: 0.847587\n",
            "Average loss: 0.465752, Train accuracy: 0.855749, Val accuracy: 0.868337\n",
            "Average loss: 0.464520, Train accuracy: 0.855663, Val accuracy: 0.861716\n",
            "Average loss: 0.463144, Train accuracy: 0.856824, Val accuracy: 0.870179\n",
            "Average loss: 0.458233, Train accuracy: 0.857591, Val accuracy: 0.839670\n",
            "Average loss: 0.456593, Train accuracy: 0.858871, Val accuracy: 0.886015\n",
            "\n",
            "\n",
            "\n",
            "Average loss: 0.828486, Train accuracy: 0.727332, Val accuracy: 0.870111\n",
            "Average loss: 0.441853, Train accuracy: 0.864348, Val accuracy: 0.893864\n",
            "Average loss: 0.376816, Train accuracy: 0.884568, Val accuracy: 0.907378\n",
            "Average loss: 0.341284, Train accuracy: 0.894942, Val accuracy: 0.908539\n",
            "Average loss: 0.316707, Train accuracy: 0.904651, Val accuracy: 0.909289\n",
            "Average loss: 0.302008, Train accuracy: 0.906272, Val accuracy: 0.915228\n",
            "Average loss: 0.286568, Train accuracy: 0.911681, Val accuracy: 0.912156\n",
            "Average loss: 0.276230, Train accuracy: 0.916391, Val accuracy: 0.918231\n",
            "Average loss: 0.266812, Train accuracy: 0.917841, Val accuracy: 0.913453\n",
            "Average loss: 0.259707, Train accuracy: 0.918353, Val accuracy: 0.909767\n",
            "\n",
            "\n",
            "\n",
            "Average loss: 0.916845, Train accuracy: 0.696686, Val accuracy: 0.868883\n",
            "Average loss: 0.441649, Train accuracy: 0.864860, Val accuracy: 0.893591\n",
            "Average loss: 0.374612, Train accuracy: 0.885165, Val accuracy: 0.904375\n",
            "Average loss: 0.334385, Train accuracy: 0.897758, Val accuracy: 0.908334\n",
            "Average loss: 0.306180, Train accuracy: 0.906989, Val accuracy: 0.915159\n",
            "Average loss: 0.283314, Train accuracy: 0.913524, Val accuracy: 0.916934\n",
            "Average loss: 0.264967, Train accuracy: 0.919616, Val accuracy: 0.920756\n",
            "Average loss: 0.251871, Train accuracy: 0.923233, Val accuracy: 0.919118\n",
            "Average loss: 0.238993, Train accuracy: 0.927601, Val accuracy: 0.918163\n",
            "Average loss: 0.225418, Train accuracy: 0.931406, Val accuracy: 0.918777\n",
            "\n",
            "\n",
            "\n",
            "Average loss: 0.887872, Train accuracy: 0.709467, Val accuracy: 0.873524\n",
            "Average loss: 0.443124, Train accuracy: 0.863563, Val accuracy: 0.892704\n",
            "Average loss: 0.369832, Train accuracy: 0.886633, Val accuracy: 0.904375\n",
            "Average loss: 0.324304, Train accuracy: 0.901597, Val accuracy: 0.910996\n",
            "Average loss: 0.304328, Train accuracy: 0.907313, Val accuracy: 0.911474\n",
            "Average loss: 0.277382, Train accuracy: 0.915691, Val accuracy: 0.915569\n",
            "Average loss: 0.260378, Train accuracy: 0.920196, Val accuracy: 0.923486\n",
            "Average loss: 0.241793, Train accuracy: 0.926646, Val accuracy: 0.919118\n",
            "Average loss: 0.230067, Train accuracy: 0.930468, Val accuracy: 0.920756\n",
            "Average loss: 0.216722, Train accuracy: 0.933966, Val accuracy: 0.922531\n",
            "\n",
            "\n",
            "\n",
            "Average loss: 0.738294, Train accuracy: 0.767549, Val accuracy: 0.867176\n",
            "Average loss: 0.437315, Train accuracy: 0.866771, Val accuracy: 0.884240\n",
            "Average loss: 0.380682, Train accuracy: 0.883561, Val accuracy: 0.895843\n",
            "Average loss: 0.355237, Train accuracy: 0.890967, Val accuracy: 0.904307\n",
            "Average loss: 0.331245, Train accuracy: 0.898202, Val accuracy: 0.910177\n",
            "Average loss: 0.316578, Train accuracy: 0.903576, Val accuracy: 0.906901\n",
            "Average loss: 0.307705, Train accuracy: 0.907126, Val accuracy: 0.910859\n",
            "Average loss: 0.298256, Train accuracy: 0.908798, Val accuracy: 0.910586\n",
            "Average loss: 0.286605, Train accuracy: 0.912193, Val accuracy: 0.912293\n",
            "Average loss: 0.284407, Train accuracy: 0.913337, Val accuracy: 0.916866\n",
            "\n",
            "\n",
            "\n",
            "Average loss: 0.736271, Train accuracy: 0.768061, Val accuracy: 0.879735\n",
            "Average loss: 0.424763, Train accuracy: 0.869501, Val accuracy: 0.893864\n",
            "Average loss: 0.362657, Train accuracy: 0.890097, Val accuracy: 0.904307\n",
            "Average loss: 0.327701, Train accuracy: 0.898713, Val accuracy: 0.906628\n",
            "Average loss: 0.302827, Train accuracy: 0.907706, Val accuracy: 0.915637\n",
            "Average loss: 0.278463, Train accuracy: 0.915896, Val accuracy: 0.913863\n",
            "Average loss: 0.263780, Train accuracy: 0.920213, Val accuracy: 0.914272\n",
            "Average loss: 0.246844, Train accuracy: 0.924581, Val accuracy: 0.916320\n",
            "Average loss: 0.234818, Train accuracy: 0.928147, Val accuracy: 0.918913\n",
            "Average loss: 0.227344, Train accuracy: 0.930587, Val accuracy: 0.921780\n",
            "\n",
            "\n",
            "\n",
            "Average loss: 0.745458, Train accuracy: 0.765775, Val accuracy: 0.872841\n",
            "Average loss: 0.427140, Train accuracy: 0.868102, Val accuracy: 0.899324\n",
            "Average loss: 0.367447, Train accuracy: 0.887128, Val accuracy: 0.897686\n",
            "Average loss: 0.330503, Train accuracy: 0.898799, Val accuracy: 0.902191\n",
            "Average loss: 0.303586, Train accuracy: 0.907023, Val accuracy: 0.914340\n",
            "Average loss: 0.279131, Train accuracy: 0.915060, Val accuracy: 0.916593\n",
            "Average loss: 0.261300, Train accuracy: 0.921049, Val accuracy: 0.917275\n",
            "Average loss: 0.244631, Train accuracy: 0.924598, Val accuracy: 0.914682\n",
            "Average loss: 0.233025, Train accuracy: 0.930144, Val accuracy: 0.916797\n",
            "Average loss: 0.222740, Train accuracy: 0.932277, Val accuracy: 0.918845\n",
            "\n",
            "\n",
            "\n",
            "Average loss: 0.774848, Train accuracy: 0.753711, Val accuracy: 0.877892\n",
            "Average loss: 0.430905, Train accuracy: 0.867351, Val accuracy: 0.892704\n",
            "Average loss: 0.367240, Train accuracy: 0.887025, Val accuracy: 0.896731\n",
            "Average loss: 0.326401, Train accuracy: 0.899038, Val accuracy: 0.910655\n",
            "Average loss: 0.301077, Train accuracy: 0.907364, Val accuracy: 0.912702\n",
            "Average loss: 0.278515, Train accuracy: 0.916152, Val accuracy: 0.916388\n",
            "Average loss: 0.260319, Train accuracy: 0.920622, Val accuracy: 0.918299\n",
            "Average loss: 0.243629, Train accuracy: 0.925639, Val accuracy: 0.916661\n",
            "Average loss: 0.231963, Train accuracy: 0.928335, Val accuracy: 0.919664\n",
            "Average loss: 0.215606, Train accuracy: 0.934904, Val accuracy: 0.915774\n",
            "\n",
            "\n",
            "\n",
            "Average loss: 1.251141, Train accuracy: 0.626284, Val accuracy: 0.822674\n",
            "Average loss: 0.607387, Train accuracy: 0.823704, Val accuracy: 0.865879\n",
            "Average loss: 0.486447, Train accuracy: 0.856226, Val accuracy: 0.878984\n",
            "Average loss: 0.426886, Train accuracy: 0.872573, Val accuracy: 0.889837\n",
            "Average loss: 0.389368, Train accuracy: 0.882640, Val accuracy: 0.892840\n",
            "Average loss: 0.363135, Train accuracy: 0.890881, Val accuracy: 0.895980\n",
            "Average loss: 0.340304, Train accuracy: 0.897229, Val accuracy: 0.902123\n",
            "Average loss: 0.322420, Train accuracy: 0.903730, Val accuracy: 0.901850\n",
            "Average loss: 0.307529, Train accuracy: 0.907706, Val accuracy: 0.901099\n",
            "Average loss: 0.295632, Train accuracy: 0.911340, Val accuracy: 0.902874\n",
            "\n",
            "\n",
            "\n",
            "Average loss: 1.221047, Train accuracy: 0.635037, Val accuracy: 0.813255\n",
            "Average loss: 0.598881, Train accuracy: 0.824660, Val accuracy: 0.867722\n",
            "Average loss: 0.479236, Train accuracy: 0.855936, Val accuracy: 0.880486\n",
            "Average loss: 0.426623, Train accuracy: 0.870440, Val accuracy: 0.890383\n",
            "Average loss: 0.393326, Train accuracy: 0.881582, Val accuracy: 0.892226\n",
            "Average loss: 0.361500, Train accuracy: 0.891581, Val accuracy: 0.897959\n",
            "Average loss: 0.340823, Train accuracy: 0.896768, Val accuracy: 0.899802\n",
            "Average loss: 0.323015, Train accuracy: 0.901938, Val accuracy: 0.899802\n",
            "Average loss: 0.304916, Train accuracy: 0.907672, Val accuracy: 0.901577\n",
            "Average loss: 0.294602, Train accuracy: 0.911306, Val accuracy: 0.906354\n",
            "\n",
            "\n",
            "\n",
            "Average loss: 1.259750, Train accuracy: 0.620773, Val accuracy: 0.814142\n",
            "Average loss: 0.618961, Train accuracy: 0.817903, Val accuracy: 0.867108\n",
            "Average loss: 0.484900, Train accuracy: 0.855373, Val accuracy: 0.879735\n",
            "Average loss: 0.426556, Train accuracy: 0.870986, Val accuracy: 0.887789\n",
            "Average loss: 0.391957, Train accuracy: 0.880968, Val accuracy: 0.894683\n",
            "Average loss: 0.364014, Train accuracy: 0.889704, Val accuracy: 0.891407\n",
            "Average loss: 0.344619, Train accuracy: 0.896239, Val accuracy: 0.901781\n",
            "Average loss: 0.323406, Train accuracy: 0.901358, Val accuracy: 0.901440\n",
            "Average loss: 0.310309, Train accuracy: 0.906119, Val accuracy: 0.905604\n",
            "Average loss: 0.295872, Train accuracy: 0.910180, Val accuracy: 0.905740\n",
            "\n",
            "\n",
            "\n",
            "Average loss: 1.223372, Train accuracy: 0.632358, Val accuracy: 0.813938\n",
            "Average loss: 0.599176, Train accuracy: 0.824591, Val accuracy: 0.862194\n",
            "Average loss: 0.486171, Train accuracy: 0.854520, Val accuracy: 0.869497\n",
            "Average loss: 0.430844, Train accuracy: 0.869331, Val accuracy: 0.883694\n",
            "Average loss: 0.392621, Train accuracy: 0.881616, Val accuracy: 0.890792\n",
            "Average loss: 0.366865, Train accuracy: 0.888987, Val accuracy: 0.894956\n",
            "Average loss: 0.342851, Train accuracy: 0.897365, Val accuracy: 0.893659\n",
            "Average loss: 0.328790, Train accuracy: 0.901580, Val accuracy: 0.902942\n",
            "Average loss: 0.310659, Train accuracy: 0.906016, Val accuracy: 0.902191\n",
            "Average loss: 0.294871, Train accuracy: 0.910931, Val accuracy: 0.904785\n",
            "\n",
            "\n",
            "\n",
            "Average loss: 2.083371, Train accuracy: 0.291318, Val accuracy: 0.447751\n",
            "Average loss: 1.698607, Train accuracy: 0.489643, Val accuracy: 0.571633\n",
            "Average loss: 1.442994, Train accuracy: 0.587909, Val accuracy: 0.659068\n",
            "Average loss: 1.242925, Train accuracy: 0.655052, Val accuracy: 0.709030\n",
            "Average loss: 1.081996, Train accuracy: 0.706344, Val accuracy: 0.748618\n",
            "Average loss: 0.951606, Train accuracy: 0.743388, Val accuracy: 0.783018\n",
            "Average loss: 0.851775, Train accuracy: 0.770006, Val accuracy: 0.807795\n",
            "Average loss: 0.771303, Train accuracy: 0.792069, Val accuracy: 0.822128\n",
            "Average loss: 0.706412, Train accuracy: 0.807016, Val accuracy: 0.831889\n",
            "Average loss: 0.655442, Train accuracy: 0.819762, Val accuracy: 0.841854\n",
            "\n",
            "\n",
            "\n",
            "Average loss: 2.033235, Train accuracy: 0.314439, Val accuracy: 0.468842\n",
            "Average loss: 1.622929, Train accuracy: 0.517080, Val accuracy: 0.594499\n",
            "Average loss: 1.363613, Train accuracy: 0.613435, Val accuracy: 0.669715\n",
            "Average loss: 1.173685, Train accuracy: 0.675596, Val accuracy: 0.731213\n",
            "Average loss: 1.024735, Train accuracy: 0.724448, Val accuracy: 0.766501\n",
            "Average loss: 0.907603, Train accuracy: 0.757004, Val accuracy: 0.788001\n",
            "Average loss: 0.816646, Train accuracy: 0.777975, Val accuracy: 0.808819\n",
            "Average loss: 0.744349, Train accuracy: 0.798707, Val accuracy: 0.822196\n",
            "Average loss: 0.686965, Train accuracy: 0.811146, Val accuracy: 0.832708\n",
            "Average loss: 0.640829, Train accuracy: 0.822885, Val accuracy: 0.843014\n",
            "\n",
            "\n",
            "\n",
            "Average loss: 2.055621, Train accuracy: 0.304696, Val accuracy: 0.417378\n",
            "Average loss: 1.682553, Train accuracy: 0.475207, Val accuracy: 0.561190\n",
            "Average loss: 1.414481, Train accuracy: 0.583234, Val accuracy: 0.651218\n",
            "Average loss: 1.214811, Train accuracy: 0.658960, Val accuracy: 0.714627\n",
            "Average loss: 1.053166, Train accuracy: 0.711753, Val accuracy: 0.755239\n",
            "Average loss: 0.927811, Train accuracy: 0.751664, Val accuracy: 0.787250\n",
            "Average loss: 0.828663, Train accuracy: 0.780278, Val accuracy: 0.807726\n",
            "Average loss: 0.753691, Train accuracy: 0.796437, Val accuracy: 0.813255\n",
            "Average loss: 0.693689, Train accuracy: 0.811419, Val accuracy: 0.828885\n",
            "Average loss: 0.646261, Train accuracy: 0.820428, Val accuracy: 0.835574\n",
            "\n",
            "\n",
            "\n",
            "Average loss: 2.022460, Train accuracy: 0.316435, Val accuracy: 0.475121\n",
            "Average loss: 1.614696, Train accuracy: 0.513753, Val accuracy: 0.592997\n",
            "Average loss: 1.364498, Train accuracy: 0.614801, Val accuracy: 0.681592\n",
            "Average loss: 1.169686, Train accuracy: 0.683889, Val accuracy: 0.739472\n",
            "Average loss: 1.016999, Train accuracy: 0.732075, Val accuracy: 0.773326\n",
            "Average loss: 0.900762, Train accuracy: 0.761867, Val accuracy: 0.798649\n",
            "Average loss: 0.811624, Train accuracy: 0.783401, Val accuracy: 0.816600\n",
            "Average loss: 0.737912, Train accuracy: 0.800618, Val accuracy: 0.827793\n",
            "Average loss: 0.682265, Train accuracy: 0.812869, Val accuracy: 0.837485\n",
            "Average loss: 0.636909, Train accuracy: 0.823977, Val accuracy: 0.842468\n",
            "\n",
            "\n",
            "\n",
            "Average loss: 2.318063, Train accuracy: 0.123946, Val accuracy: 0.168180\n",
            "Average loss: 2.235918, Train accuracy: 0.189656, Val accuracy: 0.230701\n",
            "Average loss: 2.170574, Train accuracy: 0.240948, Val accuracy: 0.277182\n",
            "Average loss: 2.107673, Train accuracy: 0.284322, Val accuracy: 0.311924\n",
            "Average loss: 2.052838, Train accuracy: 0.311845, Val accuracy: 0.339499\n",
            "Average loss: 2.005435, Train accuracy: 0.337064, Val accuracy: 0.364207\n",
            "Average loss: 1.961602, Train accuracy: 0.357182, Val accuracy: 0.379155\n",
            "Average loss: 1.921301, Train accuracy: 0.377112, Val accuracy: 0.396150\n",
            "Average loss: 1.882929, Train accuracy: 0.393902, Val accuracy: 0.422497\n",
            "Average loss: 1.846681, Train accuracy: 0.411698, Val accuracy: 0.439151\n",
            "\n",
            "\n",
            "\n",
            "Average loss: 2.312011, Train accuracy: 0.125755, Val accuracy: 0.159989\n",
            "Average loss: 2.237550, Train accuracy: 0.189059, Val accuracy: 0.226606\n",
            "Average loss: 2.176500, Train accuracy: 0.241545, Val accuracy: 0.273019\n",
            "Average loss: 2.121200, Train accuracy: 0.277890, Val accuracy: 0.306259\n",
            "Average loss: 2.071363, Train accuracy: 0.304593, Val accuracy: 0.328647\n",
            "Average loss: 2.025090, Train accuracy: 0.325837, Val accuracy: 0.352194\n",
            "Average loss: 1.983821, Train accuracy: 0.345169, Val accuracy: 0.371169\n",
            "Average loss: 1.941069, Train accuracy: 0.368921, Val accuracy: 0.391031\n",
            "Average loss: 1.904586, Train accuracy: 0.385114, Val accuracy: 0.411986\n",
            "Average loss: 1.869018, Train accuracy: 0.403884, Val accuracy: 0.430483\n",
            "\n",
            "\n",
            "\n",
            "Average loss: 2.342504, Train accuracy: 0.119834, Val accuracy: 0.155416\n",
            "Average loss: 2.261432, Train accuracy: 0.175375, Val accuracy: 0.219575\n",
            "Average loss: 2.194699, Train accuracy: 0.234310, Val accuracy: 0.285237\n",
            "Average loss: 2.128281, Train accuracy: 0.285107, Val accuracy: 0.327077\n",
            "Average loss: 2.073120, Train accuracy: 0.318807, Val accuracy: 0.350420\n",
            "Average loss: 2.021795, Train accuracy: 0.346108, Val accuracy: 0.373558\n",
            "Average loss: 1.977331, Train accuracy: 0.364741, Val accuracy: 0.391441\n",
            "Average loss: 1.933780, Train accuracy: 0.384261, Val accuracy: 0.409870\n",
            "Average loss: 1.892083, Train accuracy: 0.400607, Val accuracy: 0.423930\n",
            "Average loss: 1.853458, Train accuracy: 0.416766, Val accuracy: 0.439629\n",
            "\n",
            "\n",
            "\n",
            "Average loss: 2.326307, Train accuracy: 0.116677, Val accuracy: 0.145860\n",
            "Average loss: 2.251801, Train accuracy: 0.172098, Val accuracy: 0.201351\n",
            "Average loss: 2.192366, Train accuracy: 0.219090, Val accuracy: 0.252952\n",
            "Average loss: 2.141488, Train accuracy: 0.257414, Val accuracy: 0.285851\n",
            "Average loss: 2.094492, Train accuracy: 0.288213, Val accuracy: 0.312743\n",
            "Average loss: 2.050786, Train accuracy: 0.311453, Val accuracy: 0.338680\n",
            "Average loss: 2.011080, Train accuracy: 0.332628, Val accuracy: 0.357928\n",
            "Average loss: 1.972790, Train accuracy: 0.349742, Val accuracy: 0.377380\n",
            "Average loss: 1.937842, Train accuracy: 0.365986, Val accuracy: 0.392533\n",
            "Average loss: 1.901973, Train accuracy: 0.382811, Val accuracy: 0.415398\n",
            "\n",
            "\n",
            "\n"
          ],
          "name": "stdout"
        }
      ]
    },
    {
      "cell_type": "code",
      "metadata": {
        "id": "Y6xExdw8JB1l",
        "colab": {
          "base_uri": "https://localhost:8080/"
        },
        "outputId": "e73b84c7-7af8-4bc9-c654-b83ffd86098e"
      },
      "source": [
        "best_val_accuracy = None\n",
        "best_hyperparams = None\n",
        "best_run = None\n",
        "\n",
        "for hyperparams, run_result in run_record.items():\n",
        "    if best_val_accuracy is None or best_val_accuracy < run_result.final_val_accuracy:\n",
        "        best_val_accuracy = run_result.final_val_accuracy\n",
        "        best_hyperparams = hyperparams\n",
        "        best_run = run_result\n",
        "        \n",
        "print(\"Best validation accuracy: %4.2f, best hyperparams: %s\" % (best_val_accuracy, best_hyperparams))\n",
        "        "
      ],
      "execution_count": null,
      "outputs": [
        {
          "output_type": "stream",
          "text": [
            "Best validation accuracy: 0.92, best hyperparams: Hyperparams(learning_rate=1.0, reg=1e-07)\n"
          ],
          "name": "stdout"
        }
      ]
    },
    {
      "cell_type": "markdown",
      "metadata": {
        "id": "LOmsR0uVgtgf"
      },
      "source": [
        "# Свободное упражнение - догоним и перегоним LeNet!\n",
        "\n",
        "Попробуйте найти архитектуру и настройки тренировки, чтобы выступить лучше наших бейзлайнов.\n",
        "\n",
        "Что можно и нужно попробовать:\n",
        "- BatchNormalization (для convolution layers он в PyTorch называется [batchnorm2d](https://pytorch.org/docs/stable/nn.html#batchnorm2d))\n",
        "- Изменить количество слоев и их толщину\n",
        "- Изменять количество эпох тренировки\n",
        "- Попробовать и другие агментации"
      ]
    },
    {
      "cell_type": "code",
      "metadata": {
        "id": "tSVhD747icoc",
        "colab": {
          "base_uri": "https://localhost:8080/"
        },
        "outputId": "264c7120-e333-44fe-c293-288f9ce203cf"
      },
      "source": [
        "best_model = nn.Sequential(\n",
        "  # Input: 3@32x32\n",
        "  nn.Conv2d(in_channels=3, out_channels=16, kernel_size=5, padding=2),\n",
        "  nn.BatchNorm2d(num_features=16),\n",
        "  nn.Tanh(),\n",
        "  # Res: 16@32x32\n",
        "  nn.MaxPool2d(kernel_size=2),\n",
        "  # Res: 16@16x16\n",
        "  nn.Conv2d(in_channels=16, out_channels=32, kernel_size=3),\n",
        "  nn.BatchNorm2d(num_features=32),\n",
        "  nn.Tanh(),\n",
        "  # Res: 32@14x14\n",
        "  nn.MaxPool2d(kernel_size=2),\n",
        "  # Res: 32@7x7\n",
        "  nn.Conv2d(in_channels=32, out_channels=64, kernel_size=3),\n",
        "  nn.BatchNorm2d(num_features=64),\n",
        "  nn.Tanh(),\n",
        "  # Res: 64@5X5\n",
        "  Flattener(),\n",
        "\n",
        "  nn.Linear(in_features=5*5*64, out_features=120),\n",
        "  nn.BatchNorm1d(num_features=120),\n",
        "  nn.ReLU(inplace=True),\n",
        "\n",
        "  nn.Linear(in_features=120, out_features=84),\n",
        "  nn.BatchNorm1d(num_features=84),\n",
        "  nn.ReLU(inplace=True),\n",
        "\n",
        "  nn.Linear(in_features=84, out_features=10)\n",
        ")\n",
        "\n",
        "best_model.type(torch.cuda.FloatTensor)\n",
        "best_model.to(device)\n",
        "\n",
        "loss = nn.CrossEntropyLoss().type(torch.cuda.FloatTensor)\n",
        "optimizer = optim.SGD(best_model.parameters(), lr=1.0, weight_decay=1e-07)\n",
        "\n",
        "loss_history, train_history, val_history = train_model(best_model, train_aug_loader, val_loader, loss, optimizer, 10)"
      ],
      "execution_count": null,
      "outputs": [
        {
          "output_type": "stream",
          "text": [
            "Average loss: 0.847025, Train accuracy: 0.722196, Val accuracy: 0.869565\n",
            "Average loss: 0.431078, Train accuracy: 0.866754, Val accuracy: 0.895365\n",
            "Average loss: 0.358174, Train accuracy: 0.890660, Val accuracy: 0.904034\n",
            "Average loss: 0.322476, Train accuracy: 0.901887, Val accuracy: 0.912907\n",
            "Average loss: 0.298565, Train accuracy: 0.909002, Val accuracy: 0.914955\n",
            "Average loss: 0.274263, Train accuracy: 0.916152, Val accuracy: 0.914136\n",
            "Average loss: 0.255764, Train accuracy: 0.921339, Val accuracy: 0.914750\n",
            "Average loss: 0.238904, Train accuracy: 0.928113, Val accuracy: 0.916729\n",
            "Average loss: 0.229017, Train accuracy: 0.930724, Val accuracy: 0.918709\n",
            "Average loss: 0.216233, Train accuracy: 0.933573, Val accuracy: 0.922940\n"
          ],
          "name": "stdout"
        }
      ]
    },
    {
      "cell_type": "markdown",
      "metadata": {
        "id": "ubeKgBcnhx7N"
      },
      "source": [
        "# Финальный аккорд - проверим лучшую модель на test set\n",
        "\n",
        "В качестве разнообразия - напишите код для прогона модели на test set вы.\n",
        "\n",
        "В результате вы должны натренировать модель, которая покажет более **90%** точности на test set.  \n",
        "Как водится, лучший результат в группе получит дополнительные баллы!"
      ]
    },
    {
      "cell_type": "code",
      "metadata": {
        "id": "EIqM1kdeh-hd",
        "colab": {
          "base_uri": "https://localhost:8080/"
        },
        "outputId": "a7e9e2d4-d903-4f4e-b193-851803a83d48"
      },
      "source": [
        "# TODO Write the code to compute accuracy on test set\n",
        "test_loader = torch.utils.data.DataLoader(dataset=data_test, \n",
        "                                          batch_size=batch_size)\n",
        "final_test_accuracy = compute_accuracy(best_model, test_loader)\n",
        "print(\"Final test accuracy - \", final_test_accuracy)"
      ],
      "execution_count": null,
      "outputs": [
        {
          "output_type": "stream",
          "text": [
            "Final test accuracy -  tensor(0.9174, device='cuda:0')\n"
          ],
          "name": "stdout"
        }
      ]
    }
  ]
}