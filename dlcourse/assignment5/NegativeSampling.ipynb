{
  "nbformat": 4,
  "nbformat_minor": 0,
  "metadata": {
    "kernelspec": {
      "display_name": "Python 3",
      "language": "python",
      "name": "python3"
    },
    "language_info": {
      "codemirror_mode": {
        "name": "ipython",
        "version": 3
      },
      "file_extension": ".py",
      "mimetype": "text/x-python",
      "name": "python",
      "nbconvert_exporter": "python",
      "pygments_lexer": "ipython3",
      "version": "3.8.8"
    },
    "colab": {
      "name": "NegativeSampling.ipynb",
      "provenance": []
    },
    "accelerator": "GPU"
  },
  "cells": [
    {
      "cell_type": "markdown",
      "metadata": {
        "id": "uwXhV2so6Yxz"
      },
      "source": [
        "# Задание 5.2 - Word2Vec with Negative Sampling\n",
        "\n",
        "В этом задании мы натренируем свои версию word vectors с negative sampling на том же небольшом датасете.\n",
        "\n",
        "\n",
        "Несмотря на то, что основная причина использования Negative Sampling - улучшение скорости тренировки word2vec, в нашем игрушечном примере мы **не требуем** улучшения производительности. Мы используем negative sampling просто как дополнительное упражнение для знакомства с PyTorch.\n",
        "\n",
        "Перед запуском нужно запустить скрипт `download_data.sh`, чтобы скачать данные.\n",
        "\n",
        "Датасет и модель очень небольшие, поэтому это задание можно выполнить и без GPU.\n",
        "\n"
      ]
    },
    {
      "cell_type": "code",
      "metadata": {
        "id": "Qm8fS6RH6Yx1"
      },
      "source": [
        "import os\n",
        "import torch\n",
        "import torch.nn as nn\n",
        "import torch.optim as optim\n",
        "from torch.utils.data import Dataset\n",
        "\n",
        "from torchvision import transforms\n",
        "\n",
        "import numpy as np\n",
        "import matplotlib.pyplot as plt\n",
        "\n",
        "# We'll use Principal Component Analysis (PCA) to visualize word vectors,\n",
        "# so make sure you install dependencies from requirements.txt!\n",
        "from sklearn.decomposition import PCA \n",
        "\n",
        "%matplotlib inline"
      ],
      "execution_count": 4,
      "outputs": []
    },
    {
      "cell_type": "code",
      "metadata": {
        "id": "9HQA4FBA6Yx2"
      },
      "source": [
        "device = torch.device(\"cuda:0\")"
      ],
      "execution_count": 5,
      "outputs": []
    },
    {
      "cell_type": "code",
      "metadata": {
        "scrolled": false,
        "colab": {
          "base_uri": "https://localhost:8080/"
        },
        "id": "BZ8cwLFj6Yx2",
        "outputId": "30c67a4f-e17a-43e4-c1de-c01d1b77cf46"
      },
      "source": [
        "class StanfordTreeBank:\n",
        "    '''\n",
        "    Wrapper for accessing Stanford Tree Bank Dataset\n",
        "    https://nlp.stanford.edu/sentiment/treebank.html\n",
        "    \n",
        "    Parses dataset, gives each token and index and provides lookups\n",
        "    from string token to index and back\n",
        "    \n",
        "    Allows to generate random context with sampling strategy described in\n",
        "    word2vec paper:\n",
        "    https://papers.nips.cc/paper/5021-distributed-representations-of-words-and-phrases-and-their-compositionality.pdf\n",
        "    '''\n",
        "    def __init__(self):\n",
        "        self.index_by_token = {} # map of string -> token index\n",
        "        self.token_by_index = []\n",
        "\n",
        "        self.sentences = []\n",
        "\n",
        "        self.token_freq = {}\n",
        "        \n",
        "        self.token_reject_by_index = None\n",
        "\n",
        "    def load_dataset(self, folder):\n",
        "        filename = os.path.join(folder, \"datasetSentences.txt\")\n",
        "\n",
        "        with open(filename, \"r\", encoding=\"latin1\") as f:\n",
        "            l = f.readline() # skip the first line\n",
        "            \n",
        "            for l in f:\n",
        "                splitted_line = l.strip().split()\n",
        "                words = [w.lower() for w in splitted_line[1:]] # First one is a number\n",
        "                    \n",
        "                self.sentences.append(words)\n",
        "                for word in words:\n",
        "                    if word in self.token_freq:\n",
        "                        self.token_freq[word] +=1 \n",
        "                    else:\n",
        "                        index = len(self.token_by_index)\n",
        "                        self.token_freq[word] = 1\n",
        "                        self.index_by_token[word] = index\n",
        "                        self.token_by_index.append(word)\n",
        "        self.compute_token_prob()\n",
        "                        \n",
        "    def compute_token_prob(self):\n",
        "        words_count = np.array([self.token_freq[token] for token in self.token_by_index])\n",
        "        words_freq = words_count / np.sum(words_count)\n",
        "        \n",
        "        # Following sampling strategy from word2vec paper\n",
        "        self.token_reject_by_index = 1- np.sqrt(1e-5/words_freq)\n",
        "    \n",
        "    def check_reject(self, word):\n",
        "        return np.random.rand() > self.token_reject_by_index[self.index_by_token[word]]\n",
        "        \n",
        "    def get_random_context(self, context_length=5):\n",
        "        \"\"\"\n",
        "        Returns tuple of center word and list of context words\n",
        "        \"\"\"\n",
        "        sentence_sampled = []\n",
        "        while len(sentence_sampled) <= 2:\n",
        "            sentence_index = np.random.randint(len(self.sentences)) \n",
        "            sentence = self.sentences[sentence_index]\n",
        "            sentence_sampled = [word for word in sentence if self.check_reject(word)]\n",
        "    \n",
        "        center_word_index = np.random.randint(len(sentence_sampled))\n",
        "        \n",
        "        words_before = sentence_sampled[max(center_word_index - context_length//2,0):center_word_index]\n",
        "        words_after = sentence_sampled[center_word_index+1: center_word_index+1+context_length//2]\n",
        "        \n",
        "        return sentence_sampled[center_word_index], words_before+words_after\n",
        "    \n",
        "    def num_tokens(self):\n",
        "        return len(self.token_by_index)\n",
        "        \n",
        "data = StanfordTreeBank()\n",
        "data.load_dataset(\"./stanfordSentimentTreebank/\")\n",
        "\n",
        "print(\"Num tokens:\", data.num_tokens())\n",
        "for i in range(5):\n",
        "    center_word, other_words = data.get_random_context(5)\n",
        "    print(center_word, other_words)"
      ],
      "execution_count": 6,
      "outputs": [
        {
          "output_type": "stream",
          "text": [
            "Num tokens: 19538\n",
            "written ['hawn', 'bluntly', 'trace', 'blisteringly']\n",
            "tight ['role', 'giving', 'focused', 'illuminated']\n",
            "daughter ['danang', 'that']\n",
            "pta ['primavera', 'proud', 'muccino']\n",
            "task ['johnson', 'nearly']\n"
          ],
          "name": "stdout"
        }
      ]
    },
    {
      "cell_type": "markdown",
      "metadata": {
        "id": "ttFLWk1M6Yx5"
      },
      "source": [
        "# Dataset для Negative Sampling должен быть немного другим\n",
        "\n",
        "Как и прежде, Dataset должен сгенерировать много случайных контекстов и превратить их в сэмплы для тренировки.\n",
        "\n",
        "Здесь мы реализуем прямой проход модели сами, поэтому выдавать данные можно в удобном нам виде.\n",
        "Напоминаем, что в случае negative sampling каждым сэмплом является:\n",
        "- вход: слово в one-hot представлении\n",
        "- выход: набор из одного целевого слова и K других случайных слов из словаря.\n",
        "Вместо softmax + cross-entropy loss, сеть обучается через binary cross-entropy loss - то есть, предсказывает набор бинарных переменных, для каждой из которых функция ошибки считается независимо.\n",
        "\n",
        "Для целевого слова бинарное предсказание должно быть позитивным, а для K случайных слов - негативным.\n",
        "\n",
        "Из набора слово-контекст создается N сэмплов (где N - количество слов в контексте), в каждом из них K+1 целевых слов, для только одного из которых предсказание должно быть позитивным.\n",
        "Например, для K=2:\n",
        "\n",
        "Слово: `orders` и контекст: `['love', 'nicest', 'to', '50-year']` создадут 4 сэмпла:\n",
        "- input: `orders`, target: `[love: 1, any: 0, rose: 0]`\n",
        "- input: `orders`, target: `[nicest: 1, fool: 0, grass: 0]`\n",
        "- input: `orders`, target: `[to: 1, -: 0, the: 0]`\n",
        "- input: `orders`, target: `[50-year: 1, ?: 0, door: 0]`\n",
        "\n",
        "Все слова на входе и на выходе закодированы через one-hot encoding, с размером вектора равным количеству токенов."
      ]
    },
    {
      "cell_type": "code",
      "metadata": {
        "colab": {
          "base_uri": "https://localhost:8080/"
        },
        "id": "RR7mb5vS6Yx7",
        "outputId": "2da31f4b-98ef-4edd-f0c8-1beecdb5501b"
      },
      "source": [
        "num_negative_samples = 10\n",
        "\n",
        "class Word2VecNegativeSampling(Dataset):\n",
        "    '''\n",
        "    PyTorch Dataset for Word2Vec with Negative Sampling.\n",
        "    Accepts StanfordTreebank as data and is able to generate dataset based on\n",
        "    a number of random contexts\n",
        "    '''\n",
        "    def __init__(self, data, num_negative_samples, num_contexts=30000):\n",
        "        '''\n",
        "        Initializes Word2VecNegativeSampling, but doesn't generate the samples yet\n",
        "        (for that, use generate_dataset)\n",
        "        Arguments:\n",
        "        data - StanfordTreebank instace\n",
        "        num_negative_samples - number of negative samples to generate in addition to a positive one\n",
        "        num_contexts - number of random contexts to use when generating a dataset\n",
        "        '''\n",
        "        self.data = data\n",
        "        self.num_negative_samples = num_negative_samples\n",
        "        self.num_contexts = num_contexts\n",
        "        self.num_tokens = data.num_tokens()\n",
        "    \n",
        "    def generate_dataset(self):\n",
        "        '''\n",
        "        Generates dataset samples from random contexts\n",
        "        Note: there will be more samples than contexts because every context\n",
        "        can generate more than one sample\n",
        "        '''\n",
        "        self.samples = []\n",
        "        for _ in range(self.num_contexts):\n",
        "            word, context = self.data.get_random_context()\n",
        "            for target in context:\n",
        "                word_index = self.data.index_by_token[word]\n",
        "                target_index = self.data.index_by_token[target]\n",
        "                \n",
        "                output_indices = np.random.randint(self.num_tokens, size=self.num_negative_samples+1, dtype=np.int64)\n",
        "                output_indices = torch.from_numpy(output_indices)\n",
        "                output_indices[0] = target_index\n",
        "                \n",
        "                output_target = torch.zeros(self.num_negative_samples+1, dtype=torch.float32)\n",
        "                output_target[0] = 1.0\n",
        "                \n",
        "                sample = (word_index, output_indices, output_target)\n",
        "                self.samples.append(sample)\n",
        "        \n",
        "    def __len__(self):\n",
        "        '''\n",
        "        Returns total number of samples\n",
        "        '''\n",
        "        return len(self.samples)\n",
        "\n",
        "    \n",
        "    def __getitem__(self, index):\n",
        "        '''\n",
        "        Returns i-th sample\n",
        "        \n",
        "        Return values:\n",
        "        input_vector - index of the input word (not torch.Tensor!)\n",
        "        output_indices - torch.Tensor of indices of the target words. Should be 1+num_negative_samples.\n",
        "        output_target - torch.Tensor with float targets for the training. Should be the same size as output_indices\n",
        "                        and have 1 for the context word and 0 everywhere else\n",
        "        '''\n",
        "        return self.samples[index]\n",
        "\n",
        "dataset = Word2VecNegativeSampling(data, num_negative_samples, 10)\n",
        "dataset.generate_dataset()\n",
        "input_vector, output_indices, output_target = dataset[0]\n",
        "\n",
        "print(\"Sample - input: %s, output indices: %s, output target: %s\" % (int(input_vector), output_indices, output_target)) # target should be able to convert to int\n",
        "assert isinstance(output_indices, torch.Tensor)\n",
        "assert output_indices.shape[0] == num_negative_samples+1\n",
        "\n",
        "assert isinstance(output_target, torch.Tensor)\n",
        "assert output_target.shape[0] == num_negative_samples+1\n",
        "assert torch.sum(output_target) == 1.0"
      ],
      "execution_count": 7,
      "outputs": [
        {
          "output_type": "stream",
          "text": [
            "Sample - input: 1095, output indices: tensor([ 1179,  4549,  7501,  8465, 16355,  9006, 18670, 10880,  6167, 17685,\n",
            "         8788]), output target: tensor([1., 0., 0., 0., 0., 0., 0., 0., 0., 0., 0.])\n"
          ],
          "name": "stdout"
        }
      ]
    },
    {
      "cell_type": "markdown",
      "metadata": {
        "id": "a62YWjwg6Yx9"
      },
      "source": [
        "# Создаем модель\n",
        "\n",
        "Для нашей задачи нам придется реализовать свою собственную PyTorch модель.\n",
        "Эта модель реализует свой собственный прямой проход (forward pass), который получает на вход индекс входного слова и набор индексов для выходных слов. \n",
        "\n",
        "Как всегда, на вход приходит не один сэмпл, а целый batch.  \n",
        "Напомним, что цели улучшить скорость тренировки у нас нет, достаточно чтобы она сходилась."
      ]
    },
    {
      "cell_type": "code",
      "metadata": {
        "colab": {
          "base_uri": "https://localhost:8080/"
        },
        "id": "SKcUzgmb6Yx9",
        "outputId": "a5003f39-4ff2-49f6-b78e-c44f2df9ae7e"
      },
      "source": [
        "# Create the usual PyTorch structures\n",
        "dataset = Word2VecNegativeSampling(data, num_negative_samples, 30000)\n",
        "dataset.generate_dataset()\n",
        "\n",
        "# As before, we'll be training very small word vectors!\n",
        "wordvec_dim = 10\n",
        "\n",
        "class Word2VecNegativeSamples(nn.Module):\n",
        "    def __init__(self, num_tokens):\n",
        "        super(Word2VecNegativeSamples, self).__init__()\n",
        "        self.input = nn.Linear(num_tokens, 10, bias=False).to(device)\n",
        "        self.output = nn.Linear(10, num_tokens, bias=False).to(device)\n",
        "        \n",
        "    def forward(self, input_index_batch, output_indices_batch):\n",
        "        '''\n",
        "        Implements forward pass with negative sampling\n",
        "        \n",
        "        Arguments:\n",
        "        input_index_batch - Tensor of ints, shape: (batch_size, ), indices of input words in the batch\n",
        "        output_indices_batch - Tensor if ints, shape: (batch_size, num_negative_samples+1),\n",
        "                                indices of the target words for every sample\n",
        "                                \n",
        "        Returns:\n",
        "        predictions - Tensor of floats, shape: (batch_size, um_negative_samples+1)\n",
        "        '''\n",
        "        predictions = []\n",
        "        \n",
        "        for i, input_index in enumerate(input_index_batch):\n",
        "            output_indices = output_indices_batch[i]\n",
        "            \n",
        "            u = self.input.weight[:, input_index]\n",
        "            v = self.output.weight[output_indices, :]\n",
        "            \n",
        "            prediction = torch.mv(v, u)\n",
        "            predictions.append(prediction)\n",
        "        \n",
        "        return torch.stack(predictions)\n",
        "    \n",
        "nn_model = Word2VecNegativeSamples(data.num_tokens())\n",
        "nn_model.type(torch.cuda.FloatTensor)\n",
        "nn_model.to(device)"
      ],
      "execution_count": 8,
      "outputs": [
        {
          "output_type": "execute_result",
          "data": {
            "text/plain": [
              "Word2VecNegativeSamples(\n",
              "  (input): Linear(in_features=19538, out_features=10, bias=False)\n",
              "  (output): Linear(in_features=10, out_features=19538, bias=False)\n",
              ")"
            ]
          },
          "metadata": {
            "tags": []
          },
          "execution_count": 8
        }
      ]
    },
    {
      "cell_type": "code",
      "metadata": {
        "id": "XahfEZSy6YyA"
      },
      "source": [
        "def extract_word_vectors(nn_model):\n",
        "    '''\n",
        "    Extracts word vectors from the model\n",
        "    \n",
        "    Returns:\n",
        "    input_vectors: torch.Tensor with dimensions (num_tokens, num_dimensions)\n",
        "    output_vectors: torch.Tensor with dimensions (num_tokens, num_dimensions)\n",
        "    '''\n",
        "    input_vectors = nn_model.input.weight.data.cpu().T\n",
        "    output_vectors = nn_model.output.weight.cpu().data\n",
        "    \n",
        "    return input_vectors, output_vectors\n",
        "\n",
        "untrained_input_vectors, untrained_output_vectors = extract_word_vectors(nn_model)\n",
        "assert untrained_input_vectors.shape == (data.num_tokens(), wordvec_dim)\n",
        "assert untrained_output_vectors.shape == (data.num_tokens(), wordvec_dim)"
      ],
      "execution_count": 18,
      "outputs": []
    },
    {
      "cell_type": "code",
      "metadata": {
        "id": "uJIVJIEl6YyA"
      },
      "source": [
        "def train_neg_sample(model, dataset, train_loader, optimizer, num_epochs, scheduler=None, scheduler_loss=False):    \n",
        "    '''\n",
        "    Trains word2vec with negative samples on and regenerating dataset every epoch\n",
        "    \n",
        "    Returns:\n",
        "    loss_history, train_history\n",
        "    '''\n",
        "    loss = nn.BCEWithLogitsLoss().type(torch.FloatTensor)\n",
        "    loss_history = []\n",
        "    train_history = []\n",
        "    for epoch in range(num_epochs):\n",
        "        model.train() # Enter train mode\n",
        "        \n",
        "        dataset.generate_dataset()\n",
        "        \n",
        "        loss_accum = 0\n",
        "        correct_samples = 0\n",
        "        total_samples = 0\n",
        "        \n",
        "        for i_step, (x, indicies, y) in enumerate(train_loader):\n",
        "            x_gpu = x.to(device)\n",
        "            indicies_gpu = indicies.to(device)\n",
        "            y_gpu = y.to(device)\n",
        "            predictions = model(x_gpu, indicies_gpu)\n",
        "            loss_value = loss(predictions, y_gpu)\n",
        "        \n",
        "            optimizer.zero_grad()\n",
        "            loss_value.backward()\n",
        "            optimizer.step()\n",
        "            \n",
        "            max_preds = torch.argmax(predictions, 1)\n",
        "            max_y = torch.argmax(y_gpu, 1)\n",
        "            correct_samples += torch.sum(max_preds == max_y)\n",
        "            total_samples += y.shape[0]\n",
        "            \n",
        "            loss_accum += loss_value\n",
        "        \n",
        "        ave_loss = loss_accum / i_step\n",
        "        train_accuracy = float(correct_samples) / total_samples\n",
        "        \n",
        "        loss_history.append(float(ave_loss))\n",
        "        train_history.append(train_accuracy)\n",
        "        \n",
        "        if scheduler:\n",
        "            if scheduler_loss:\n",
        "                scheduler.step(ave_loss)\n",
        "            else:\n",
        "                scheduler.step()\n",
        "            \n",
        "        print(\"Epoch %i, Average loss: %f, Train accuracy: %f\" % (epoch, ave_loss, train_accuracy))\n",
        "        \n",
        "    return loss_history, train_history"
      ],
      "execution_count": 10,
      "outputs": []
    },
    {
      "cell_type": "markdown",
      "metadata": {
        "id": "AqhfVuGL6YyB"
      },
      "source": [
        "# Ну и наконец тренировка!\n",
        "\n",
        "Добейтесь значения ошибки меньше **0.25**."
      ]
    },
    {
      "cell_type": "code",
      "metadata": {
        "id": "l53xYUAQ6YyB"
      },
      "source": [
        "import itertools\n",
        "from collections import namedtuple"
      ],
      "execution_count": 11,
      "outputs": []
    },
    {
      "cell_type": "code",
      "metadata": {
        "id": "uMyuwEhe6YyC"
      },
      "source": [
        "def param_search(learning_rates, reg_strengths, factors, patience_list, num_epochs=10):\n",
        "    run_records = {}\n",
        "  \n",
        "    Hyperparams = namedtuple(\"Hyperparams\", ['learning_rates', 'reg_strengths', 'factors', 'patience'])\n",
        "    RunResult = namedtuple(\"RunResult\", ['model', 'train_history', 'loss_history'])\n",
        "\n",
        "    param_list = [learning_rates, reg_strengths, factors, patience_list]\n",
        "    param_combs = list(itertools.product(*param_list))\n",
        "    indicies = np.random.choice(len(param_combs), size=15, replace=False)\n",
        "    for idx in indicies:\n",
        "        lr, reg, factor, patience = param_combs[idx]\n",
        "\n",
        "        model = Word2VecNegativeSamples(data.num_tokens())\n",
        "        model.type(torch.cuda.FloatTensor)\n",
        "        model = model.to(device)\n",
        "\n",
        "        optimizer = optim.SGD(model.parameters(), lr=lr, weight_decay=reg)\n",
        "        scheduler = optim.lr_scheduler.ReduceLROnPlateau(optimizer, factor=factor, patience=patience)\n",
        "\n",
        "        print(f'lr: {lr}, reg: {reg}, factor: {factor}, patience: {patience}')\n",
        "        loss_history, train_history = train_neg_sample(model, dataset, train_loader, optimizer, num_epochs, scheduler, True)\n",
        "\n",
        "        params = Hyperparams(lr, reg, factor, patience)\n",
        "        run_results = RunResult(model, train_history, loss_history)\n",
        "        run_records[params] = run_results\n",
        "\n",
        "        print('\\n\\n')\n",
        "\n",
        "    return run_records"
      ],
      "execution_count": 12,
      "outputs": []
    },
    {
      "cell_type": "code",
      "metadata": {
        "colab": {
          "base_uri": "https://localhost:8080/"
        },
        "id": "eqDIoasb6YyC",
        "outputId": "0e085081-032b-4d9e-9409-e57222cde5d2"
      },
      "source": [
        "learning_rates = [30, 20, 10]\n",
        "reg_strengths = [0]\n",
        "factors = [0.1, 0.3, 0.5, 0.7]\n",
        "patience_list = [1, 2, 3]\n",
        "\n",
        "train_loader = torch.utils.data.DataLoader(dataset, batch_size=20)\n",
        "\n",
        "run_records = param_search(learning_rates, reg_strengths, factors, patience_list)"
      ],
      "execution_count": 14,
      "outputs": [
        {
          "output_type": "stream",
          "text": [
            "lr: 20, reg: 0, factor: 0.5, patience: 2\n",
            "Epoch 0, Average loss: 0.693171, Train accuracy: 0.100085\n",
            "Epoch 1, Average loss: 0.648856, Train accuracy: 0.147761\n",
            "Epoch 2, Average loss: 0.433226, Train accuracy: 0.254769\n",
            "Epoch 3, Average loss: 0.326432, Train accuracy: 0.290643\n",
            "Epoch 4, Average loss: 0.296007, Train accuracy: 0.303784\n",
            "Epoch 5, Average loss: 0.285341, Train accuracy: 0.305598\n",
            "Epoch 6, Average loss: 0.278186, Train accuracy: 0.312720\n",
            "Epoch 7, Average loss: 0.274752, Train accuracy: 0.313037\n",
            "Epoch 8, Average loss: 0.271614, Train accuracy: 0.317811\n",
            "Epoch 9, Average loss: 0.269403, Train accuracy: 0.323585\n",
            "\n",
            "\n",
            "\n",
            "lr: 30, reg: 0, factor: 0.5, patience: 2\n",
            "Epoch 0, Average loss: 0.685597, Train accuracy: 0.108607\n",
            "Epoch 1, Average loss: 0.471517, Train accuracy: 0.220343\n",
            "Epoch 2, Average loss: 0.330333, Train accuracy: 0.274356\n",
            "Epoch 3, Average loss: 0.300471, Train accuracy: 0.289687\n",
            "Epoch 4, Average loss: 0.288597, Train accuracy: 0.297551\n",
            "Epoch 5, Average loss: 0.282877, Train accuracy: 0.303821\n",
            "Epoch 6, Average loss: 0.277366, Train accuracy: 0.310268\n",
            "Epoch 7, Average loss: 0.272312, Train accuracy: 0.323024\n",
            "Epoch 8, Average loss: 0.268036, Train accuracy: 0.335954\n",
            "Epoch 9, Average loss: 0.263769, Train accuracy: 0.351195\n",
            "\n",
            "\n",
            "\n",
            "lr: 30, reg: 0, factor: 0.3, patience: 2\n",
            "Epoch 0, Average loss: 0.685726, Train accuracy: 0.109099\n",
            "Epoch 1, Average loss: 0.472146, Train accuracy: 0.220070\n",
            "Epoch 2, Average loss: 0.330346, Train accuracy: 0.274543\n",
            "Epoch 3, Average loss: 0.300196, Train accuracy: 0.290984\n",
            "Epoch 4, Average loss: 0.288808, Train accuracy: 0.293774\n",
            "Epoch 5, Average loss: 0.281900, Train accuracy: 0.303458\n",
            "Epoch 6, Average loss: 0.277513, Train accuracy: 0.313442\n",
            "Epoch 7, Average loss: 0.272274, Train accuracy: 0.324909\n",
            "Epoch 8, Average loss: 0.267738, Train accuracy: 0.336851\n",
            "Epoch 9, Average loss: 0.264182, Train accuracy: 0.349333\n",
            "\n",
            "\n",
            "\n",
            "lr: 20, reg: 0, factor: 0.3, patience: 3\n",
            "Epoch 0, Average loss: 0.693234, Train accuracy: 0.098854\n",
            "Epoch 1, Average loss: 0.651867, Train accuracy: 0.149070\n",
            "Epoch 2, Average loss: 0.437291, Train accuracy: 0.254590\n",
            "Epoch 3, Average loss: 0.328279, Train accuracy: 0.292121\n",
            "Epoch 4, Average loss: 0.296055, Train accuracy: 0.298709\n",
            "Epoch 5, Average loss: 0.285329, Train accuracy: 0.306258\n",
            "Epoch 6, Average loss: 0.278906, Train accuracy: 0.310970\n",
            "Epoch 7, Average loss: 0.275155, Train accuracy: 0.311399\n",
            "Epoch 8, Average loss: 0.270967, Train accuracy: 0.320276\n",
            "Epoch 9, Average loss: 0.269408, Train accuracy: 0.325248\n",
            "\n",
            "\n",
            "\n",
            "lr: 10, reg: 0, factor: 0.1, patience: 3\n",
            "Epoch 0, Average loss: 0.693312, Train accuracy: 0.099489\n",
            "Epoch 1, Average loss: 0.692908, Train accuracy: 0.113690\n",
            "Epoch 2, Average loss: 0.684755, Train accuracy: 0.133152\n",
            "Epoch 3, Average loss: 0.618109, Train accuracy: 0.195218\n",
            "Epoch 4, Average loss: 0.478106, Train accuracy: 0.268088\n",
            "Epoch 5, Average loss: 0.373631, Train accuracy: 0.298979\n",
            "Epoch 6, Average loss: 0.322803, Train accuracy: 0.308554\n",
            "Epoch 7, Average loss: 0.299724, Train accuracy: 0.313905\n",
            "Epoch 8, Average loss: 0.287410, Train accuracy: 0.315645\n",
            "Epoch 9, Average loss: 0.282498, Train accuracy: 0.311119\n",
            "\n",
            "\n",
            "\n",
            "lr: 30, reg: 0, factor: 0.5, patience: 1\n",
            "Epoch 0, Average loss: 0.687531, Train accuracy: 0.109122\n",
            "Epoch 1, Average loss: 0.481589, Train accuracy: 0.219810\n",
            "Epoch 2, Average loss: 0.331578, Train accuracy: 0.275636\n",
            "Epoch 3, Average loss: 0.301098, Train accuracy: 0.288512\n",
            "Epoch 4, Average loss: 0.289691, Train accuracy: 0.295458\n",
            "Epoch 5, Average loss: 0.281776, Train accuracy: 0.305577\n",
            "Epoch 6, Average loss: 0.277661, Train accuracy: 0.310489\n",
            "Epoch 7, Average loss: 0.271603, Train accuracy: 0.328279\n",
            "Epoch 8, Average loss: 0.267650, Train accuracy: 0.338566\n",
            "Epoch 9, Average loss: 0.263239, Train accuracy: 0.354003\n",
            "\n",
            "\n",
            "\n",
            "lr: 10, reg: 0, factor: 0.5, patience: 3\n",
            "Epoch 0, Average loss: 0.693314, Train accuracy: 0.098685\n",
            "Epoch 1, Average loss: 0.692782, Train accuracy: 0.112751\n",
            "Epoch 2, Average loss: 0.683004, Train accuracy: 0.137711\n",
            "Epoch 3, Average loss: 0.607612, Train accuracy: 0.206769\n",
            "Epoch 4, Average loss: 0.465638, Train accuracy: 0.272382\n",
            "Epoch 5, Average loss: 0.368316, Train accuracy: 0.300942\n",
            "Epoch 6, Average loss: 0.321003, Train accuracy: 0.308406\n",
            "Epoch 7, Average loss: 0.299218, Train accuracy: 0.308816\n",
            "Epoch 8, Average loss: 0.287676, Train accuracy: 0.312213\n",
            "Epoch 9, Average loss: 0.281321, Train accuracy: 0.311725\n",
            "\n",
            "\n",
            "\n",
            "lr: 20, reg: 0, factor: 0.7, patience: 2\n",
            "Epoch 0, Average loss: 0.693056, Train accuracy: 0.099100\n",
            "Epoch 1, Average loss: 0.640352, Train accuracy: 0.155585\n",
            "Epoch 2, Average loss: 0.422649, Train accuracy: 0.257015\n",
            "Epoch 3, Average loss: 0.324557, Train accuracy: 0.289045\n",
            "Epoch 4, Average loss: 0.296195, Train accuracy: 0.301044\n",
            "Epoch 5, Average loss: 0.284766, Train accuracy: 0.304581\n",
            "Epoch 6, Average loss: 0.278298, Train accuracy: 0.308541\n",
            "Epoch 7, Average loss: 0.274362, Train accuracy: 0.312676\n",
            "Epoch 8, Average loss: 0.271078, Train accuracy: 0.320698\n",
            "Epoch 9, Average loss: 0.269145, Train accuracy: 0.325019\n",
            "\n",
            "\n",
            "\n",
            "lr: 20, reg: 0, factor: 0.3, patience: 1\n",
            "Epoch 0, Average loss: 0.692962, Train accuracy: 0.101290\n",
            "Epoch 1, Average loss: 0.634770, Train accuracy: 0.159473\n",
            "Epoch 2, Average loss: 0.416739, Train accuracy: 0.262249\n",
            "Epoch 3, Average loss: 0.323281, Train accuracy: 0.291637\n",
            "Epoch 4, Average loss: 0.295780, Train accuracy: 0.300249\n",
            "Epoch 5, Average loss: 0.283576, Train accuracy: 0.305313\n",
            "Epoch 6, Average loss: 0.278269, Train accuracy: 0.310333\n",
            "Epoch 7, Average loss: 0.274986, Train accuracy: 0.312862\n",
            "Epoch 8, Average loss: 0.271486, Train accuracy: 0.317720\n",
            "Epoch 9, Average loss: 0.269284, Train accuracy: 0.323792\n",
            "\n",
            "\n",
            "\n",
            "lr: 30, reg: 0, factor: 0.1, patience: 3\n",
            "Epoch 0, Average loss: 0.688214, Train accuracy: 0.107372\n",
            "Epoch 1, Average loss: 0.484597, Train accuracy: 0.215665\n",
            "Epoch 2, Average loss: 0.332883, Train accuracy: 0.275065\n",
            "Epoch 3, Average loss: 0.301905, Train accuracy: 0.288308\n",
            "Epoch 4, Average loss: 0.290285, Train accuracy: 0.294712\n",
            "Epoch 5, Average loss: 0.282304, Train accuracy: 0.304656\n",
            "Epoch 6, Average loss: 0.277015, Train accuracy: 0.311780\n",
            "Epoch 7, Average loss: 0.272736, Train accuracy: 0.323351\n",
            "Epoch 8, Average loss: 0.267832, Train accuracy: 0.338201\n",
            "Epoch 9, Average loss: 0.263263, Train accuracy: 0.350480\n",
            "\n",
            "\n",
            "\n",
            "lr: 30, reg: 0, factor: 0.7, patience: 3\n",
            "Epoch 0, Average loss: 0.689703, Train accuracy: 0.105898\n",
            "Epoch 1, Average loss: 0.496709, Train accuracy: 0.214616\n",
            "Epoch 2, Average loss: 0.335862, Train accuracy: 0.274004\n",
            "Epoch 3, Average loss: 0.303834, Train accuracy: 0.284891\n",
            "Epoch 4, Average loss: 0.290111, Train accuracy: 0.294476\n",
            "Epoch 5, Average loss: 0.282201, Train accuracy: 0.305644\n",
            "Epoch 6, Average loss: 0.276298, Train accuracy: 0.315357\n",
            "Epoch 7, Average loss: 0.272471, Train accuracy: 0.325375\n",
            "Epoch 8, Average loss: 0.268078, Train accuracy: 0.337437\n",
            "Epoch 9, Average loss: 0.263240, Train accuracy: 0.351543\n",
            "\n",
            "\n",
            "\n",
            "lr: 30, reg: 0, factor: 0.1, patience: 1\n",
            "Epoch 0, Average loss: 0.688027, Train accuracy: 0.106681\n",
            "Epoch 1, Average loss: 0.483513, Train accuracy: 0.215641\n",
            "Epoch 2, Average loss: 0.332751, Train accuracy: 0.275687\n",
            "Epoch 3, Average loss: 0.301832, Train accuracy: 0.287898\n",
            "Epoch 4, Average loss: 0.289179, Train accuracy: 0.295847\n",
            "Epoch 5, Average loss: 0.283208, Train accuracy: 0.300863\n",
            "Epoch 6, Average loss: 0.277225, Train accuracy: 0.314081\n",
            "Epoch 7, Average loss: 0.272815, Train accuracy: 0.323391\n",
            "Epoch 8, Average loss: 0.268390, Train accuracy: 0.335021\n",
            "Epoch 9, Average loss: 0.263460, Train accuracy: 0.351756\n",
            "\n",
            "\n",
            "\n",
            "lr: 10, reg: 0, factor: 0.3, patience: 3\n",
            "Epoch 0, Average loss: 0.693319, Train accuracy: 0.098706\n",
            "Epoch 1, Average loss: 0.693035, Train accuracy: 0.113098\n",
            "Epoch 2, Average loss: 0.687441, Train accuracy: 0.130750\n",
            "Epoch 3, Average loss: 0.631437, Train accuracy: 0.187809\n",
            "Epoch 4, Average loss: 0.493641, Train accuracy: 0.260607\n",
            "Epoch 5, Average loss: 0.382347, Train accuracy: 0.295926\n",
            "Epoch 6, Average loss: 0.327632, Train accuracy: 0.305844\n",
            "Epoch 7, Average loss: 0.303452, Train accuracy: 0.308489\n",
            "Epoch 8, Average loss: 0.289196, Train accuracy: 0.310266\n",
            "Epoch 9, Average loss: 0.282468, Train accuracy: 0.316051\n",
            "\n",
            "\n",
            "\n",
            "lr: 20, reg: 0, factor: 0.3, patience: 2\n",
            "Epoch 0, Average loss: 0.693177, Train accuracy: 0.099744\n",
            "Epoch 1, Average loss: 0.649063, Train accuracy: 0.152336\n",
            "Epoch 2, Average loss: 0.433155, Train accuracy: 0.255944\n",
            "Epoch 3, Average loss: 0.328294, Train accuracy: 0.288781\n",
            "Epoch 4, Average loss: 0.296903, Train accuracy: 0.299516\n",
            "Epoch 5, Average loss: 0.285743, Train accuracy: 0.303744\n",
            "Epoch 6, Average loss: 0.278347, Train accuracy: 0.309117\n",
            "Epoch 7, Average loss: 0.274471, Train accuracy: 0.316681\n",
            "Epoch 8, Average loss: 0.271656, Train accuracy: 0.318663\n",
            "Epoch 9, Average loss: 0.269590, Train accuracy: 0.321829\n",
            "\n",
            "\n",
            "\n",
            "lr: 20, reg: 0, factor: 0.1, patience: 3\n",
            "Epoch 0, Average loss: 0.692816, Train accuracy: 0.099831\n",
            "Epoch 1, Average loss: 0.626366, Train accuracy: 0.162305\n",
            "Epoch 2, Average loss: 0.408702, Train accuracy: 0.262673\n",
            "Epoch 3, Average loss: 0.321089, Train accuracy: 0.288528\n",
            "Epoch 4, Average loss: 0.295666, Train accuracy: 0.297848\n",
            "Epoch 5, Average loss: 0.284233, Train accuracy: 0.301175\n",
            "Epoch 6, Average loss: 0.277396, Train accuracy: 0.310239\n",
            "Epoch 7, Average loss: 0.274145, Train accuracy: 0.313582\n",
            "Epoch 8, Average loss: 0.271601, Train accuracy: 0.318981\n",
            "Epoch 9, Average loss: 0.268861, Train accuracy: 0.324759\n",
            "\n",
            "\n",
            "\n"
          ],
          "name": "stdout"
        }
      ]
    },
    {
      "cell_type": "code",
      "metadata": {
        "colab": {
          "base_uri": "https://localhost:8080/"
        },
        "id": "FC_bv3ktNUwa",
        "outputId": "2d1b70d1-c70c-49da-d974-ecbdfe639eb1"
      },
      "source": [
        "train_loader = torch.utils.data.DataLoader(dataset, batch_size=20)\n",
        "\n",
        "best_model = Word2VecNegativeSamples(data.num_tokens())\n",
        "best_model.type(torch.cuda.FloatTensor)\n",
        "best_model.to(device)\n",
        "\n",
        "optimizer = optim.SGD(best_model.parameters(), lr=30, weight_decay=0)\n",
        "scheduler = optim.lr_scheduler.ReduceLROnPlateau(optimizer, factor=0.3, patience=2)\n",
        "loss_history, train_history = train_neg_sample(best_model, dataset, train_loader, optimizer, 50, scheduler, True)"
      ],
      "execution_count": 15,
      "outputs": [
        {
          "output_type": "stream",
          "text": [
            "Epoch 0, Average loss: 0.691142, Train accuracy: 0.103037\n",
            "Epoch 1, Average loss: 0.514989, Train accuracy: 0.203138\n",
            "Epoch 2, Average loss: 0.337739, Train accuracy: 0.276586\n",
            "Epoch 3, Average loss: 0.304681, Train accuracy: 0.287299\n",
            "Epoch 4, Average loss: 0.289784, Train accuracy: 0.294818\n",
            "Epoch 5, Average loss: 0.283144, Train accuracy: 0.301111\n",
            "Epoch 6, Average loss: 0.277026, Train accuracy: 0.313882\n",
            "Epoch 7, Average loss: 0.273121, Train accuracy: 0.324681\n",
            "Epoch 8, Average loss: 0.268441, Train accuracy: 0.337409\n",
            "Epoch 9, Average loss: 0.263742, Train accuracy: 0.353646\n",
            "Epoch 10, Average loss: 0.258879, Train accuracy: 0.367201\n",
            "Epoch 11, Average loss: 0.254477, Train accuracy: 0.384514\n",
            "Epoch 12, Average loss: 0.250156, Train accuracy: 0.401112\n",
            "Epoch 13, Average loss: 0.244921, Train accuracy: 0.418815\n",
            "Epoch 14, Average loss: 0.242235, Train accuracy: 0.428544\n",
            "Epoch 15, Average loss: 0.238963, Train accuracy: 0.442085\n",
            "Epoch 16, Average loss: 0.236100, Train accuracy: 0.451344\n",
            "Epoch 17, Average loss: 0.233292, Train accuracy: 0.459788\n",
            "Epoch 18, Average loss: 0.230441, Train accuracy: 0.471651\n",
            "Epoch 19, Average loss: 0.227636, Train accuracy: 0.481253\n",
            "Epoch 20, Average loss: 0.226267, Train accuracy: 0.487214\n",
            "Epoch 21, Average loss: 0.224716, Train accuracy: 0.491515\n",
            "Epoch 22, Average loss: 0.223090, Train accuracy: 0.495252\n",
            "Epoch 23, Average loss: 0.221619, Train accuracy: 0.503970\n",
            "Epoch 24, Average loss: 0.220700, Train accuracy: 0.506229\n",
            "Epoch 25, Average loss: 0.218835, Train accuracy: 0.514496\n",
            "Epoch 26, Average loss: 0.218150, Train accuracy: 0.518046\n",
            "Epoch 27, Average loss: 0.218642, Train accuracy: 0.514777\n",
            "Epoch 28, Average loss: 0.217534, Train accuracy: 0.521271\n",
            "Epoch 29, Average loss: 0.216585, Train accuracy: 0.526817\n",
            "Epoch 30, Average loss: 0.216053, Train accuracy: 0.525455\n",
            "Epoch 31, Average loss: 0.215097, Train accuracy: 0.530202\n",
            "Epoch 32, Average loss: 0.215473, Train accuracy: 0.530825\n",
            "Epoch 33, Average loss: 0.214533, Train accuracy: 0.533236\n",
            "Epoch 34, Average loss: 0.214725, Train accuracy: 0.535527\n",
            "Epoch 35, Average loss: 0.215228, Train accuracy: 0.531484\n",
            "Epoch 36, Average loss: 0.214736, Train accuracy: 0.536120\n",
            "Epoch 37, Average loss: 0.204785, Train accuracy: 0.554061\n",
            "Epoch 38, Average loss: 0.194917, Train accuracy: 0.580359\n",
            "Epoch 39, Average loss: 0.192873, Train accuracy: 0.582851\n",
            "Epoch 40, Average loss: 0.189863, Train accuracy: 0.589874\n",
            "Epoch 41, Average loss: 0.188044, Train accuracy: 0.598956\n",
            "Epoch 42, Average loss: 0.186946, Train accuracy: 0.598854\n",
            "Epoch 43, Average loss: 0.186054, Train accuracy: 0.601627\n",
            "Epoch 44, Average loss: 0.185277, Train accuracy: 0.604108\n",
            "Epoch 45, Average loss: 0.183855, Train accuracy: 0.609201\n",
            "Epoch 46, Average loss: 0.183825, Train accuracy: 0.607403\n",
            "Epoch 47, Average loss: 0.183322, Train accuracy: 0.610432\n",
            "Epoch 48, Average loss: 0.183114, Train accuracy: 0.609761\n",
            "Epoch 49, Average loss: 0.181759, Train accuracy: 0.611628\n"
          ],
          "name": "stdout"
        }
      ]
    },
    {
      "cell_type": "code",
      "metadata": {
        "colab": {
          "base_uri": "https://localhost:8080/",
          "height": 282
        },
        "id": "-9Q01t9W6YyD",
        "outputId": "50a1b76c-e9d1-45eb-ce5d-131242c1c295"
      },
      "source": [
        "# Visualize training graphs\n",
        "plt.subplot(211)\n",
        "plt.plot(train_history)\n",
        "plt.subplot(212)\n",
        "plt.plot(loss_history)"
      ],
      "execution_count": 16,
      "outputs": [
        {
          "output_type": "execute_result",
          "data": {
            "text/plain": [
              "[<matplotlib.lines.Line2D at 0x7fab84482950>]"
            ]
          },
          "metadata": {
            "tags": []
          },
          "execution_count": 16
        },
        {
          "output_type": "display_data",
          "data": {
            "image/png": "[encoded data removed]",
            "text/plain": [
              "<Figure size 432x288 with 2 Axes>"
            ]
          },
          "metadata": {
            "tags": [],
            "needs_background": "light"
          }
        }
      ]
    },
    {
      "cell_type": "markdown",
      "metadata": {
        "id": "ZIldxDba6YyD"
      },
      "source": [
        "# Визуализируем вектора для разного вида слов до и после тренировки\n",
        "\n",
        "Как и ранее, в случае успешной тренировки вы должны увидеть как вектора слов разных типов (например, знаков препинания, предлогов и остальных)"
      ]
    },
    {
      "cell_type": "code",
      "metadata": {
        "colab": {
          "base_uri": "https://localhost:8080/",
          "height": 941
        },
        "id": "5EA6ZpQm6YyD",
        "outputId": "eb6fdbac-e492-4d5a-bd40-1e7623b5e8f7"
      },
      "source": [
        "trained_input_vectors, trained_output_vectors = extract_word_vectors(best_model)\n",
        "assert trained_input_vectors.shape == (data.num_tokens(), wordvec_dim)\n",
        "assert trained_output_vectors.shape == (data.num_tokens(), wordvec_dim)\n",
        "\n",
        "def visualize_vectors(input_vectors, output_vectors, title=''):\n",
        "    full_vectors = torch.cat((input_vectors, output_vectors), 0)\n",
        "    wordvec_embedding = PCA(n_components=2).fit_transform(full_vectors)\n",
        "\n",
        "    # Helpful words form CS244D example\n",
        "    # http://cs224d.stanford.edu/assignment1/index.html\n",
        "    visualize_words = {'green': [\"the\", \"a\", \"an\"], \n",
        "                      'blue': [\",\", \".\", \"?\", \"!\", \"``\", \"''\", \"--\"], \n",
        "                      'brown': [\"good\", \"great\", \"cool\", \"brilliant\", \"wonderful\", \n",
        "                              \"well\", \"amazing\", \"worth\", \"sweet\", \"enjoyable\"],\n",
        "                      'orange': [\"boring\", \"bad\", \"waste\", \"dumb\", \"annoying\", \"stupid\"],\n",
        "                      'red': ['tell', 'told', 'said', 'say', 'says', 'tells', 'goes', 'go', 'went']\n",
        "                     }\n",
        "\n",
        "    plt.figure(figsize=(7,7))\n",
        "    plt.suptitle(title)\n",
        "    for color, words in visualize_words.items():\n",
        "        points = np.array([wordvec_embedding[data.index_by_token[w]] for w in words])\n",
        "        for i, word in enumerate(words):\n",
        "            plt.text(points[i, 0], points[i, 1], word, color=color,horizontalalignment='center')\n",
        "        plt.scatter(points[:, 0], points[:, 1], c=color, alpha=0.3, s=0.5)\n",
        "\n",
        "visualize_vectors(untrained_input_vectors, untrained_output_vectors, \"Untrained word vectors\")\n",
        "visualize_vectors(trained_input_vectors, trained_output_vectors, \"Trained word vectors\")"
      ],
      "execution_count": 19,
      "outputs": [
        {
          "output_type": "display_data",
          "data": {
            "image/png": "[encoded data removed]",
            "text/plain": [
              "<Figure size 504x504 with 1 Axes>"
            ]
          },
          "metadata": {
            "tags": [],
            "needs_background": "light"
          }
        },
        {
          "output_type": "display_data",
          "data": {
            "image/png": "[encoded data removed]",
            "text/plain": [
              "<Figure size 504x504 with 1 Axes>"
            ]
          },
          "metadata": {
            "tags": [],
            "needs_background": "light"
          }
        }
      ]
    },
    {
      "cell_type": "code",
      "metadata": {
        "id": "vKu9FTTj6YyE"
      },
      "source": [
        ""
      ],
      "execution_count": null,
      "outputs": []
    }
  ]
}