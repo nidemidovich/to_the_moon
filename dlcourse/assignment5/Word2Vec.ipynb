{
  "nbformat": 4,
  "nbformat_minor": 0,
  "metadata": {
    "kernelspec": {
      "display_name": "Python 3",
      "language": "python",
      "name": "python3"
    },
    "language_info": {
      "codemirror_mode": {
        "name": "ipython",
        "version": 3
      },
      "file_extension": ".py",
      "mimetype": "text/x-python",
      "name": "python",
      "nbconvert_exporter": "python",
      "pygments_lexer": "ipython3",
      "version": "3.7.0"
    },
    "colab": {
      "name": "Word2Vec.ipynb",
      "provenance": [],
      "collapsed_sections": []
    },
    "accelerator": "GPU"
  },
  "cells": [
    {
      "cell_type": "markdown",
      "metadata": {
        "id": "awPUr_o55sA1"
      },
      "source": [
        "# Задание 5.1 - Word2Vec\n",
        "\n",
        "В этом задании мы натренируем свои word vectors на очень небольшом датасете.\n",
        "Мы будем использовать самую простую версию word2vec, без negative sampling и других оптимизаций.\n",
        "\n",
        "Перед запуском нужно запустить скрипт `download_data.sh` чтобы скачать данные.\n",
        "\n",
        "Датасет и модель очень небольшие, поэтому это задание можно выполнить и без GPU."
      ]
    },
    {
      "cell_type": "code",
      "metadata": {
        "id": "K5i01TJd5sA-"
      },
      "source": [
        "import torch\n",
        "import torch.nn as nn\n",
        "import torch.optim as optim\n",
        "from torch.utils.data import Dataset\n",
        "\n",
        "from torchvision import transforms\n",
        "\n",
        "import numpy as np\n",
        "import matplotlib.pyplot as plt\n",
        "\n",
        "# We'll use Principal Component Analysis (PCA) to visualize word vectors,\n",
        "# so make sure you install dependencies from requirements.txt!\n",
        "from sklearn.decomposition import PCA \n",
        "\n",
        "%matplotlib inline"
      ],
      "execution_count": null,
      "outputs": []
    },
    {
      "cell_type": "code",
      "metadata": {
        "id": "TckbVOMy2hGW"
      },
      "source": [
        "device = torch.device(\"cuda:0\")"
      ],
      "execution_count": null,
      "outputs": []
    },
    {
      "cell_type": "code",
      "metadata": {
        "scrolled": false,
        "colab": {
          "base_uri": "https://localhost:8080/"
        },
        "id": "LWyDgUCR5sBB",
        "outputId": "d23e411b-de84-4a48-8b5c-999817db4873"
      },
      "source": [
        "import os\n",
        "import numpy as np\n",
        "\n",
        "class StanfordTreeBank:\n",
        "    '''\n",
        "    Wrapper for accessing Stanford Tree Bank Dataset\n",
        "    https://nlp.stanford.edu/sentiment/treebank.html\n",
        "    \n",
        "    Parses dataset, gives each token and index and provides lookups\n",
        "    from string token to index and back\n",
        "    \n",
        "    Allows to generate random context with sampling strategy described in\n",
        "    word2vec paper:\n",
        "    https://papers.nips.cc/paper/5021-distributed-representations-of-words-and-phrases-and-their-compositionality.pdf\n",
        "    '''\n",
        "    def __init__(self):\n",
        "        self.index_by_token = {}\n",
        "        self.token_by_index = []\n",
        "\n",
        "        self.sentences = []\n",
        "\n",
        "        self.token_freq = {}\n",
        "        \n",
        "        self.token_reject_by_index = None\n",
        "\n",
        "    def load_dataset(self, folder):\n",
        "        filename = os.path.join(folder, \"datasetSentences.txt\")\n",
        "\n",
        "        with open(filename, \"r\", encoding=\"latin1\") as f:\n",
        "            l = f.readline() # skip the first line\n",
        "            \n",
        "            for l in f:\n",
        "                splitted_line = l.strip().split()\n",
        "                words = [w.lower() for w in splitted_line[1:]] # First one is a number\n",
        "                    \n",
        "                self.sentences.append(words)\n",
        "                for word in words:\n",
        "                    if word in self.token_freq:\n",
        "                        self.token_freq[word] +=1 \n",
        "                    else:\n",
        "                        index = len(self.token_by_index)\n",
        "                        self.token_freq[word] = 1\n",
        "                        self.index_by_token[word] = index\n",
        "                        self.token_by_index.append(word)\n",
        "        self.compute_token_prob()\n",
        "                        \n",
        "    def compute_token_prob(self):\n",
        "        words_count = np.array([self.token_freq[token] for token in self.token_by_index])\n",
        "        words_freq = words_count / np.sum(words_count)\n",
        "        \n",
        "        # Following sampling strategy from word2vec paper:\n",
        "        # https://papers.nips.cc/paper/5021-distributed-representations-of-words-and-phrases-and-their-compositionality.pdf\n",
        "        self.token_reject_by_index = 1- np.sqrt(1e-5/words_freq)\n",
        "    \n",
        "    def check_reject(self, word):\n",
        "        return np.random.rand() > self.token_reject_by_index[self.index_by_token[word]]\n",
        "        \n",
        "    def get_random_context(self, context_length=5):\n",
        "        \"\"\"\n",
        "        Returns tuple of center word and list of context words\n",
        "        \"\"\"\n",
        "        sentence_sampled = []\n",
        "        while len(sentence_sampled) <= 2:\n",
        "            sentence_index = np.random.randint(len(self.sentences)) \n",
        "            sentence = self.sentences[sentence_index]\n",
        "            sentence_sampled = [word for word in sentence if self.check_reject(word)]\n",
        "    \n",
        "        center_word_index = np.random.randint(len(sentence_sampled))\n",
        "        \n",
        "        words_before = sentence_sampled[max(center_word_index - context_length//2,0):center_word_index]\n",
        "        words_after = sentence_sampled[center_word_index+1: center_word_index+1+context_length//2]\n",
        "        \n",
        "        return sentence_sampled[center_word_index], words_before+words_after\n",
        "    \n",
        "    def num_tokens(self):\n",
        "        return len(self.token_by_index)\n",
        "        \n",
        "data = StanfordTreeBank()\n",
        "data.load_dataset(\"./stanfordSentimentTreebank/\")\n",
        "\n",
        "print(\"Num tokens:\", data.num_tokens())\n",
        "for i in range(5):\n",
        "    center_word, other_words = data.get_random_context(5)\n",
        "    print(center_word, other_words)"
      ],
      "execution_count": null,
      "outputs": [
        {
          "output_type": "stream",
          "text": [
            "Num tokens: 19538\n",
            "follows ['connect-the-dots', 'john']\n",
            "pretence ['resentment', 'line']\n",
            "jonah ['agnostic', 'carnivore', 'gratefully', 'lunacy']\n",
            "abuse ['touch', 'spousal', 'veers']\n",
            "concerned ['the', 'doting']\n"
          ],
          "name": "stdout"
        }
      ]
    },
    {
      "cell_type": "markdown",
      "metadata": {
        "id": "mh1x3Eqg5sBF"
      },
      "source": [
        "# Имплеменируем PyTorch-style Dataset для Word2Vec\n",
        "\n",
        "Этот Dataset должен сгенерировать много случайных контекстов и превратить их в сэмплы для тренировки.\n",
        "\n",
        "Напоминаем, что word2vec модель получает на вход One-hot вектор слова и тренирует простую сеть для предсказания на его основе соседних слов.\n",
        "Из набора слово-контекст создается N сэмплов (где N - количество слов в контексте):\n",
        "\n",
        "Например:\n",
        "\n",
        "Слово: `orders` и контекст: `['love', 'nicest', 'to', '50-year']` создадут 4 сэмпла:\n",
        "- input: `orders`, target: `love`\n",
        "- input: `orders`, target: `nicest`\n",
        "- input: `orders`, target: `to`\n",
        "- input: `orders`, target: `50-year`\n",
        "\n",
        "Все слова на входе и на выходе закодированы через one-hot encoding, с размером вектора равным количеству токенов."
      ]
    },
    {
      "cell_type": "code",
      "metadata": {
        "id": "JPPv5IqE5sBG",
        "colab": {
          "base_uri": "https://localhost:8080/"
        },
        "outputId": "cea76147-f8cb-4c7d-d83b-66a38062006c"
      },
      "source": [
        "class Word2VecPlain(Dataset):\n",
        "    '''\n",
        "    PyTorch Dataset for plain Word2Vec.\n",
        "    Accepts StanfordTreebank as data and is able to generate dataset based on\n",
        "    a number of random contexts\n",
        "    '''\n",
        "    def __init__(self, data, num_contexts=30000):\n",
        "        '''\n",
        "        Initializes Word2VecPlain, but doesn't generate the samples yet\n",
        "        (for that, use generate_dataset)\n",
        "        Arguments:\n",
        "        data - StanfordTreebank instace\n",
        "        num_contexts - number of random contexts to use when generating a dataset\n",
        "        '''\n",
        "        self.data = data\n",
        "        self.num_contexts = num_contexts\n",
        "        self.num_tokens = data.num_tokens()\n",
        "    \n",
        "    def generate_dataset(self):\n",
        "        '''\n",
        "        Generates dataset samples from random contexts\n",
        "        Note: there will be more samples than contexts because every context\n",
        "        can generate more than one sample\n",
        "        '''\n",
        "        self.samples = []\n",
        "        for _ in range(self.num_contexts):\n",
        "            center_word, other_words = data.get_random_context()\n",
        "            for target in other_words:\n",
        "                center_word_index = self.data.index_by_token[center_word]\n",
        "                target_index = self.data.index_by_token[target]\n",
        "                \n",
        "                input_vector = torch.zeros(self.num_tokens)\n",
        "                input_vector[center_word_index] = 1\n",
        "                \n",
        "                sample = (input_vector, target_index)\n",
        "                self.samples.append(sample)\n",
        "        \n",
        "    def __len__(self):\n",
        "        '''\n",
        "        Returns total number of samples\n",
        "        '''\n",
        "        return len(self.samples)\n",
        "    \n",
        "    def __getitem__(self, index):\n",
        "        '''\n",
        "        Returns i-th sample\n",
        "        \n",
        "        Return values:\n",
        "        input_vector - torch.Tensor with one-hot representation of the input vector\n",
        "        output_index - index of the target word (not torch.Tensor!)\n",
        "        '''\n",
        "        return self.samples[index]  \n",
        "\n",
        "dataset = Word2VecPlain(data, 10)\n",
        "dataset.generate_dataset()\n",
        "input_vector, target = dataset[3]\n",
        "print(\"Sample - input: %s, target: %s\" % (input_vector, int(target))) # target should be able to convert to int\n",
        "assert isinstance(input_vector, torch.Tensor)\n",
        "assert torch.sum(input_vector) == 1.0\n",
        "assert input_vector.shape[0] == data.num_tokens()"
      ],
      "execution_count": null,
      "outputs": [
        {
          "output_type": "stream",
          "text": [
            "Sample - input: tensor([0., 0., 0.,  ..., 0., 0., 0.]), target: 2512\n"
          ],
          "name": "stdout"
        }
      ]
    },
    {
      "cell_type": "markdown",
      "metadata": {
        "id": "LtbI0OJ95sBI"
      },
      "source": [
        "# Создаем модель и тренируем ее"
      ]
    },
    {
      "cell_type": "code",
      "metadata": {
        "id": "rfgMguep5sBI"
      },
      "source": [
        "# Create the usual PyTorch structures\n",
        "dataset = Word2VecPlain(data, 30000)\n",
        "dataset.generate_dataset()\n",
        "\n",
        "# We'll be training very small word vectors!\n",
        "wordvec_dim = 10\n",
        "\n",
        "# We can use a standard sequential model for this\n",
        "nn_model = nn.Sequential(\n",
        "            nn.Linear(dataset.num_tokens, wordvec_dim, bias=False),\n",
        "            nn.Linear(wordvec_dim, dataset.num_tokens, bias=False), \n",
        "         )\n",
        "nn_model.type(torch.cuda.FloatTensor)\n",
        "nn_model.to(device)"
      ],
      "execution_count": null,
      "outputs": []
    },
    {
      "cell_type": "code",
      "metadata": {
        "id": "Con0HcQ25sBJ"
      },
      "source": [
        "def extract_word_vectors(nn_model):\n",
        "    '''\n",
        "    Extracts word vectors from the model\n",
        "    \n",
        "    Returns:\n",
        "    input_vectors: torch.Tensor with dimensions (num_tokens, num_dimensions)\n",
        "    output_vectors: torch.Tensor with dimensions (num_tokens, num_dimensions)\n",
        "    '''\n",
        "    input_vectors = nn_model[0].weight.data.T\n",
        "    output_vectors = nn_model[1].weight.data\n",
        "    \n",
        "    return input_vectors, output_vectors\n",
        "\n",
        "untrained_input_vectors, untrained_output_vectors = extract_word_vectors(nn_model)\n",
        "assert untrained_input_vectors.shape == (data.num_tokens(), wordvec_dim)\n",
        "assert untrained_output_vectors.shape == (data.num_tokens(), wordvec_dim)"
      ],
      "execution_count": null,
      "outputs": []
    },
    {
      "cell_type": "code",
      "metadata": {
        "id": "pTZcNbP-5sBK"
      },
      "source": [
        "def train_model(model, dataset, train_loader, optimizer, num_epochs, scheduler=None, scheduler_loss=False):\n",
        "    '''\n",
        "    Trains plain word2vec using cross-entropy loss and regenerating dataset every epoch\n",
        "    \n",
        "    Returns:\n",
        "    loss_history, train_history\n",
        "    '''\n",
        "    loss = nn.CrossEntropyLoss().type(torch.FloatTensor)\n",
        "    \n",
        "    loss_history = []\n",
        "    train_history = []\n",
        "    for epoch in range(num_epochs):\n",
        "        # Enter train mode\n",
        "        model.train()\n",
        "        \n",
        "        # Regenerate dataset every epoch\n",
        "        dataset.generate_dataset()\n",
        "        \n",
        "        loss_accum = 0\n",
        "        correct_samples = 0\n",
        "        total_samples = 0\n",
        "        \n",
        "        for i_step, (x, y) in enumerate(train_loader):\n",
        "            x_gpu = x.to(device)\n",
        "            y_gpu = y.to(device)\n",
        "            prediction = model(x_gpu)\n",
        "            loss_value = loss(prediction, y_gpu)\n",
        "            optimizer.zero_grad()\n",
        "            loss_value.backward()\n",
        "            optimizer.step()\n",
        "            \n",
        "            _, indices = torch.max(prediction, 1)\n",
        "            correct_samples += torch.sum(indices == y_gpu)\n",
        "            total_samples += y.shape[0]\n",
        "            \n",
        "            loss_accum += loss_value\n",
        "        \n",
        "        ave_loss = loss_accum / i_step\n",
        "        train_accuracy = float(correct_samples) / total_samples\n",
        "        \n",
        "        loss_history.append(float(ave_loss))\n",
        "        train_history.append(train_accuracy)\n",
        "        \n",
        "        if scheduler:\n",
        "            if scheduler_loss:\n",
        "                scheduler.step(ave_loss)\n",
        "            else:\n",
        "                scheduler.step()\n",
        "            \n",
        "        print(\"Epoch %i, Average loss: %f, Train accuracy: %f\" % (epoch, ave_loss, train_accuracy))\n",
        "        \n",
        "    return loss_history, train_history"
      ],
      "execution_count": null,
      "outputs": []
    },
    {
      "cell_type": "markdown",
      "metadata": {
        "id": "wFPvnTOu5sBK"
      },
      "source": [
        "# Ну и наконец тренировка!\n",
        "\n",
        "Добейтесь значения ошибки меньше **8.0**."
      ]
    },
    {
      "cell_type": "code",
      "metadata": {
        "id": "dD7AOwBc5sBK",
        "colab": {
          "base_uri": "https://localhost:8080/"
        },
        "outputId": "bb1364fc-4eec-45fe-ce57-59f3c5ee5ee0"
      },
      "source": [
        "# Finally, let's train the model!\n",
        "\n",
        "# TODO: We use placeholder values for hyperparameters - you will need to find better values!\n",
        "optimizer = optim.SGD(nn_model.parameters(), lr=1e-1, weight_decay=0)\n",
        "scheduler = optim.lr_scheduler.StepLR(optimizer, step_size=10, gamma=0.1)\n",
        "train_loader = torch.utils.data.DataLoader(dataset, batch_size=20)\n",
        "\n",
        "loss_history, train_history = train_model(nn_model, dataset, train_loader, optimizer, 10, scheduler)"
      ],
      "execution_count": null,
      "outputs": [
        {
          "output_type": "stream",
          "text": [
            "Epoch 0, Average loss: 9.882223, Train accuracy: 0.000061\n",
            "Epoch 1, Average loss: 9.881961, Train accuracy: 0.000085\n",
            "Epoch 2, Average loss: 9.881631, Train accuracy: 0.000326\n",
            "Epoch 3, Average loss: 9.881282, Train accuracy: 0.000471\n",
            "Epoch 4, Average loss: 9.880921, Train accuracy: 0.000494\n",
            "Epoch 5, Average loss: 9.880589, Train accuracy: 0.000640\n",
            "Epoch 6, Average loss: 9.880261, Train accuracy: 0.000953\n",
            "Epoch 7, Average loss: 9.879930, Train accuracy: 0.001217\n",
            "Epoch 8, Average loss: 9.879506, Train accuracy: 0.001111\n",
            "Epoch 9, Average loss: 9.879168, Train accuracy: 0.001159\n"
          ],
          "name": "stdout"
        }
      ]
    },
    {
      "cell_type": "code",
      "metadata": {
        "id": "FsrjPZygGLfG"
      },
      "source": [
        "import itertools\n",
        "from collections import namedtuple"
      ],
      "execution_count": null,
      "outputs": []
    },
    {
      "cell_type": "code",
      "metadata": {
        "id": "nccQAu2XI3pr"
      },
      "source": [
        "train_loader = torch.utils.data.DataLoader(dataset, batch_size=64)\n",
        "def param_search(learning_rates, reg_strengths, factors, patience_list, num_epochs=10):\n",
        "  run_records = {}\n",
        "  \n",
        "  Hyperparams = namedtuple(\"Hyperparams\", ['learning_rates', 'reg_strengths', 'factors', 'patience'])\n",
        "  RunResult = namedtuple(\"RunResult\", ['model', 'train_history', 'loss_history'])\n",
        "\n",
        "  param_list = [learning_rates, reg_strengths, factors, patience_list]\n",
        "  param_combs = list(itertools.product(*param_list))\n",
        "  indicies = np.random.choice(len(param_combs), size=15, replace=False)\n",
        "  for idx in indicies:\n",
        "    lr, reg, factor, patience = param_combs[idx]\n",
        "\n",
        "    model = nn.Sequential(\n",
        "            nn.Linear(dataset.num_tokens, wordvec_dim, bias=False),\n",
        "            nn.Linear(wordvec_dim, dataset.num_tokens, bias=False), \n",
        "         )\n",
        "    model.type(torch.cuda.FloatTensor)\n",
        "    model = model.to(device)\n",
        "\n",
        "    optimizer = optim.SGD(model.parameters(), lr=lr, weight_decay=reg)\n",
        "    scheduler = optim.lr_scheduler.ReduceLROnPlateau(optimizer, factor=factor, patience=patience)\n",
        "\n",
        "    print(f'lr: {lr}, reg: {reg}, factor: {factor}, patience: {patience}')\n",
        "    loss_history, train_history = train_model(model, dataset, train_loader, optimizer, num_epochs, scheduler, True)\n",
        "\n",
        "    params = Hyperparams(lr, reg, factor, patience)\n",
        "    run_results = RunResult(model, train_history, loss_history)\n",
        "    run_records[params] = run_results\n",
        "\n",
        "    print('\\n\\n')\n",
        "\n",
        "  return run_records"
      ],
      "execution_count": null,
      "outputs": []
    },
    {
      "cell_type": "code",
      "metadata": {
        "colab": {
          "base_uri": "https://localhost:8080/"
        },
        "id": "W7Y2yO6cJtKV",
        "outputId": "410e7897-3531-4ef1-e07c-365ee918180b"
      },
      "source": [
        "learning_rates = [20, 10]\n",
        "reg_strengths = [0]\n",
        "factors = [0.1, 0.3, 0.5, 0.7]\n",
        "patience_list = [1, 2, 3]\n",
        "\n",
        "run_records = param_search(learning_rates, reg_strengths, factors, patience_list)"
      ],
      "execution_count": null,
      "outputs": [
        {
          "output_type": "stream",
          "text": [
            "lr: 20, reg: 0, factor: 0.3, patience: 1\n",
            "Epoch 0, Average loss: 9.870332, Train accuracy: 0.001326\n",
            "Epoch 1, Average loss: 9.715052, Train accuracy: 0.001682\n",
            "Epoch 2, Average loss: 9.558623, Train accuracy: 0.002696\n",
            "Epoch 3, Average loss: 9.447001, Train accuracy: 0.004038\n",
            "Epoch 4, Average loss: 9.364581, Train accuracy: 0.006004\n",
            "Epoch 5, Average loss: 7897032248489127568228745216.000000, Train accuracy: 0.000447\n",
            "Epoch 6, Average loss: nan, Train accuracy: 0.002347\n",
            "Epoch 7, Average loss: nan, Train accuracy: 0.003189\n",
            "Epoch 8, Average loss: nan, Train accuracy: 0.003001\n",
            "Epoch 9, Average loss: nan, Train accuracy: 0.002769\n",
            "\n",
            "\n",
            "\n",
            "lr: 10, reg: 0, factor: 0.7, patience: 2\n",
            "Epoch 0, Average loss: 9.882673, Train accuracy: 0.000966\n",
            "Epoch 1, Average loss: 9.856290, Train accuracy: 0.002387\n",
            "Epoch 2, Average loss: 9.736700, Train accuracy: 0.002829\n",
            "Epoch 3, Average loss: 9.582456, Train accuracy: 0.002373\n",
            "Epoch 4, Average loss: 9.468075, Train accuracy: 0.002523\n",
            "Epoch 5, Average loss: 9.376042, Train accuracy: 0.003673\n",
            "Epoch 6, Average loss: 9.288177, Train accuracy: 0.004593\n",
            "Epoch 7, Average loss: 9.193456, Train accuracy: 0.006466\n",
            "Epoch 8, Average loss: 9.116595, Train accuracy: 0.007438\n",
            "Epoch 9, Average loss: 9.027181, Train accuracy: 0.009395\n",
            "\n",
            "\n",
            "\n",
            "lr: 20, reg: 0, factor: 0.5, patience: 3\n",
            "Epoch 0, Average loss: 9.872004, Train accuracy: 0.001333\n",
            "Epoch 1, Average loss: 9.725182, Train accuracy: 0.001776\n",
            "Epoch 2, Average loss: 9.554420, Train accuracy: 0.002707\n",
            "Epoch 3, Average loss: 9.452109, Train accuracy: 0.004381\n",
            "Epoch 4, Average loss: 9.374037, Train accuracy: 0.005614\n",
            "Epoch 5, Average loss: 9.303461, Train accuracy: 0.007260\n",
            "Epoch 6, Average loss: 9.242931, Train accuracy: 0.008222\n",
            "Epoch 7, Average loss: 9.227164, Train accuracy: 0.008814\n",
            "Epoch 8, Average loss: 9.177066, Train accuracy: 0.009853\n",
            "Epoch 9, Average loss: 9.144111, Train accuracy: 0.009951\n",
            "\n",
            "\n",
            "\n",
            "lr: 10, reg: 0, factor: 0.7, patience: 3\n",
            "Epoch 0, Average loss: 9.882528, Train accuracy: 0.001054\n",
            "Epoch 1, Average loss: 9.849785, Train accuracy: 0.002948\n",
            "Epoch 2, Average loss: 9.727168, Train accuracy: 0.002634\n",
            "Epoch 3, Average loss: 9.569134, Train accuracy: 0.002417\n",
            "Epoch 4, Average loss: 9.457173, Train accuracy: 0.002833\n",
            "Epoch 5, Average loss: 9.366611, Train accuracy: 0.003862\n",
            "Epoch 6, Average loss: 9.265931, Train accuracy: 0.004515\n",
            "Epoch 7, Average loss: 9.172893, Train accuracy: 0.006399\n",
            "Epoch 8, Average loss: 9.102323, Train accuracy: 0.008100\n",
            "Epoch 9, Average loss: 9.007355, Train accuracy: 0.009419\n",
            "\n",
            "\n",
            "\n",
            "lr: 20, reg: 0, factor: 0.1, patience: 3\n",
            "Epoch 0, Average loss: 9.870563, Train accuracy: 0.001207\n",
            "Epoch 1, Average loss: 9.716180, Train accuracy: 0.001777\n",
            "Epoch 2, Average loss: 9.552636, Train accuracy: 0.002362\n",
            "Epoch 3, Average loss: 9.438573, Train accuracy: 0.004120\n",
            "Epoch 4, Average loss: 9.354598, Train accuracy: 0.006321\n",
            "Epoch 5, Average loss: 9.290368, Train accuracy: 0.007213\n",
            "Epoch 6, Average loss: 9.260279, Train accuracy: 0.008248\n",
            "Epoch 7, Average loss: 9.192499, Train accuracy: 0.009239\n",
            "Epoch 8, Average loss: 9.186183, Train accuracy: 0.009414\n",
            "Epoch 9, Average loss: 9.158556, Train accuracy: 0.009847\n",
            "\n",
            "\n",
            "\n",
            "lr: 10, reg: 0, factor: 0.1, patience: 3\n",
            "Epoch 0, Average loss: 9.882381, Train accuracy: 0.000944\n",
            "Epoch 1, Average loss: 9.856558, Train accuracy: 0.002706\n",
            "Epoch 2, Average loss: 9.736556, Train accuracy: 0.003087\n",
            "Epoch 3, Average loss: 9.581178, Train accuracy: 0.002540\n",
            "Epoch 4, Average loss: 9.471463, Train accuracy: 0.002499\n",
            "Epoch 5, Average loss: 9.373432, Train accuracy: 0.003558\n",
            "Epoch 6, Average loss: 9.286809, Train accuracy: 0.004748\n",
            "Epoch 7, Average loss: 9.191005, Train accuracy: 0.006130\n",
            "Epoch 8, Average loss: 9.115449, Train accuracy: 0.007878\n",
            "Epoch 9, Average loss: 9.022324, Train accuracy: 0.009479\n",
            "\n",
            "\n",
            "\n",
            "lr: 20, reg: 0, factor: 0.3, patience: 2\n",
            "Epoch 0, Average loss: 9.868638, Train accuracy: 0.001366\n",
            "Epoch 1, Average loss: 9.708927, Train accuracy: 0.001935\n",
            "Epoch 2, Average loss: 9.551068, Train accuracy: 0.002161\n",
            "Epoch 3, Average loss: 9.444561, Train accuracy: 0.004289\n",
            "Epoch 4, Average loss: 9.362330, Train accuracy: 0.005831\n",
            "Epoch 5, Average loss: 9.295623, Train accuracy: 0.007335\n",
            "Epoch 6, Average loss: 9.255151, Train accuracy: 0.008581\n",
            "Epoch 7, Average loss: 9.201072, Train accuracy: 0.008773\n",
            "Epoch 8, Average loss: 9.182463, Train accuracy: 0.009412\n",
            "Epoch 9, Average loss: 9.152327, Train accuracy: 0.010164\n",
            "\n",
            "\n",
            "\n",
            "lr: 10, reg: 0, factor: 0.5, patience: 2\n",
            "Epoch 0, Average loss: 9.882963, Train accuracy: 0.000931\n",
            "Epoch 1, Average loss: 9.857111, Train accuracy: 0.002342\n",
            "Epoch 2, Average loss: 9.738105, Train accuracy: 0.002539\n",
            "Epoch 3, Average loss: 9.580563, Train accuracy: 0.002493\n",
            "Epoch 4, Average loss: 9.465299, Train accuracy: 0.002915\n",
            "Epoch 5, Average loss: 9.370252, Train accuracy: 0.003545\n",
            "Epoch 6, Average loss: 9.284480, Train accuracy: 0.004291\n",
            "Epoch 7, Average loss: 9.203234, Train accuracy: 0.005379\n",
            "Epoch 8, Average loss: 9.095420, Train accuracy: 0.007524\n",
            "Epoch 9, Average loss: 9.018357, Train accuracy: 0.009141\n",
            "\n",
            "\n",
            "\n",
            "lr: 20, reg: 0, factor: 0.7, patience: 2\n",
            "Epoch 0, Average loss: 9.867559, Train accuracy: 0.001172\n",
            "Epoch 1, Average loss: 9.703198, Train accuracy: 0.001789\n",
            "Epoch 2, Average loss: 9.548516, Train accuracy: 0.002778\n",
            "Epoch 3, Average loss: 9.449831, Train accuracy: 0.003929\n",
            "Epoch 4, Average loss: 9.364107, Train accuracy: 0.006291\n",
            "Epoch 5, Average loss: 9.302385, Train accuracy: 0.006981\n",
            "Epoch 6, Average loss: 9.256549, Train accuracy: 0.008313\n",
            "Epoch 7, Average loss: 9.247551, Train accuracy: 0.008533\n",
            "Epoch 8, Average loss: inf, Train accuracy: 0.000400\n",
            "Epoch 9, Average loss: nan, Train accuracy: 0.002755\n",
            "\n",
            "\n",
            "\n",
            "lr: 20, reg: 0, factor: 0.1, patience: 1\n",
            "Epoch 0, Average loss: 9.868219, Train accuracy: 0.001386\n",
            "Epoch 1, Average loss: 9.709646, Train accuracy: 0.001989\n",
            "Epoch 2, Average loss: 9.550651, Train accuracy: 0.002599\n",
            "Epoch 3, Average loss: 9.443431, Train accuracy: 0.004489\n",
            "Epoch 4, Average loss: 9.357708, Train accuracy: 0.005943\n",
            "Epoch 5, Average loss: 9.308200, Train accuracy: 0.007325\n",
            "Epoch 6, Average loss: 9.238008, Train accuracy: 0.008587\n",
            "Epoch 7, Average loss: 9.196738, Train accuracy: 0.009698\n",
            "Epoch 8, Average loss: 9.169631, Train accuracy: 0.010264\n",
            "Epoch 9, Average loss: 9.145329, Train accuracy: 0.009726\n",
            "\n",
            "\n",
            "\n",
            "lr: 20, reg: 0, factor: 0.5, patience: 2\n",
            "Epoch 0, Average loss: 9.872021, Train accuracy: 0.001291\n",
            "Epoch 1, Average loss: 9.722052, Train accuracy: 0.001790\n",
            "Epoch 2, Average loss: 9.559766, Train accuracy: 0.002906\n",
            "Epoch 3, Average loss: 9.451829, Train accuracy: 0.003997\n",
            "Epoch 4, Average loss: 9.362868, Train accuracy: 0.005114\n",
            "Epoch 5, Average loss: 9.301923, Train accuracy: 0.006923\n",
            "Epoch 6, Average loss: 9.256619, Train accuracy: 0.007978\n",
            "Epoch 7, Average loss: 9.218056, Train accuracy: 0.008356\n",
            "Epoch 8, Average loss: 9.174220, Train accuracy: 0.009458\n",
            "Epoch 9, Average loss: 9.140714, Train accuracy: 0.010473\n",
            "\n",
            "\n",
            "\n",
            "lr: 10, reg: 0, factor: 0.3, patience: 1\n",
            "Epoch 0, Average loss: 9.882505, Train accuracy: 0.000958\n",
            "Epoch 1, Average loss: 9.861898, Train accuracy: 0.001992\n",
            "Epoch 2, Average loss: 9.760715, Train accuracy: 0.002690\n",
            "Epoch 3, Average loss: 9.598900, Train accuracy: 0.002709\n",
            "Epoch 4, Average loss: 9.481442, Train accuracy: 0.002752\n",
            "Epoch 5, Average loss: 9.375787, Train accuracy: 0.003721\n",
            "Epoch 6, Average loss: 9.290860, Train accuracy: 0.004197\n",
            "Epoch 7, Average loss: 9.188750, Train accuracy: 0.005880\n",
            "Epoch 8, Average loss: 9.101405, Train accuracy: 0.007755\n",
            "Epoch 9, Average loss: 9.021704, Train accuracy: 0.009348\n",
            "\n",
            "\n",
            "\n",
            "lr: 10, reg: 0, factor: 0.7, patience: 1\n",
            "Epoch 0, Average loss: 9.882795, Train accuracy: 0.000751\n",
            "Epoch 1, Average loss: 9.862551, Train accuracy: 0.002699\n",
            "Epoch 2, Average loss: 9.760786, Train accuracy: 0.003127\n",
            "Epoch 3, Average loss: 9.596466, Train accuracy: 0.002634\n",
            "Epoch 4, Average loss: 9.474137, Train accuracy: 0.003247\n",
            "Epoch 5, Average loss: 9.381487, Train accuracy: 0.003698\n",
            "Epoch 6, Average loss: 9.289920, Train accuracy: 0.004635\n",
            "Epoch 7, Average loss: 9.201382, Train accuracy: 0.006079\n",
            "Epoch 8, Average loss: 9.105145, Train accuracy: 0.008153\n",
            "Epoch 9, Average loss: 9.006734, Train accuracy: 0.010005\n",
            "\n",
            "\n",
            "\n",
            "lr: 20, reg: 0, factor: 0.7, patience: 1\n",
            "Epoch 0, Average loss: 9.872557, Train accuracy: 0.001574\n",
            "Epoch 1, Average loss: 9.726251, Train accuracy: 0.001931\n",
            "Epoch 2, Average loss: 9.558294, Train accuracy: 0.002558\n",
            "Epoch 3, Average loss: 9.459168, Train accuracy: 0.003823\n",
            "Epoch 4, Average loss: 9.367503, Train accuracy: 0.005598\n",
            "Epoch 5, Average loss: 9.292682, Train accuracy: 0.006967\n",
            "Epoch 6, Average loss: 1206377586388286937245941760.000000, Train accuracy: 0.000193\n",
            "Epoch 7, Average loss: nan, Train accuracy: 0.002521\n",
            "Epoch 8, Average loss: nan, Train accuracy: 0.003377\n",
            "Epoch 9, Average loss: nan, Train accuracy: 0.002987\n",
            "\n",
            "\n",
            "\n",
            "lr: 10, reg: 0, factor: 0.1, patience: 1\n",
            "Epoch 0, Average loss: 9.882407, Train accuracy: 0.000737\n",
            "Epoch 1, Average loss: 9.857006, Train accuracy: 0.002388\n",
            "Epoch 2, Average loss: 9.738562, Train accuracy: 0.002669\n",
            "Epoch 3, Average loss: 9.579794, Train accuracy: 0.002555\n",
            "Epoch 4, Average loss: 9.462098, Train accuracy: 0.002580\n",
            "Epoch 5, Average loss: 9.370484, Train accuracy: 0.003433\n",
            "Epoch 6, Average loss: 9.285480, Train accuracy: 0.004107\n",
            "Epoch 7, Average loss: 9.187050, Train accuracy: 0.006889\n",
            "Epoch 8, Average loss: 9.110271, Train accuracy: 0.008012\n",
            "Epoch 9, Average loss: 9.021536, Train accuracy: 0.009312\n",
            "\n",
            "\n",
            "\n"
          ],
          "name": "stdout"
        }
      ]
    },
    {
      "cell_type": "code",
      "metadata": {
        "id": "TFztbOVous6G"
      },
      "source": [
        "def train_model(model, dataset, train_loader, optimizer, num_epochs, scheduler=None, scheduler_loss=False):\n",
        "    '''\n",
        "    Trains plain word2vec using cross-entropy loss and regenerating dataset every epoch\n",
        "    \n",
        "    Returns:\n",
        "    loss_history, train_history\n",
        "    '''\n",
        "    loss = nn.CrossEntropyLoss().type(torch.FloatTensor)\n",
        "    \n",
        "    loss_history = []\n",
        "    train_history = []\n",
        "    for epoch in range(num_epochs):\n",
        "        # Enter train mode\n",
        "        model.train()\n",
        "        \n",
        "        # Regenerate dataset every epoch\n",
        "        dataset.generate_dataset()\n",
        "        \n",
        "        loss_accum = 0\n",
        "        correct_samples = 0\n",
        "        total_samples = 0\n",
        "        \n",
        "        for i_step, (x, y) in enumerate(train_loader):\n",
        "            prediction = model(x)\n",
        "            loss_value = loss(prediction, y)\n",
        "            optimizer.zero_grad()\n",
        "            loss_value.backward()\n",
        "            optimizer.step()\n",
        "            \n",
        "            _, indices = torch.max(prediction, 1)\n",
        "            correct_samples += torch.sum(indices == y)\n",
        "            total_samples += y.shape[0]\n",
        "            \n",
        "            loss_accum += loss_value\n",
        "        \n",
        "        ave_loss = loss_accum / i_step\n",
        "        train_accuracy = float(correct_samples) / total_samples\n",
        "        \n",
        "        loss_history.append(float(ave_loss))\n",
        "        train_history.append(train_accuracy)\n",
        "        \n",
        "        if scheduler:\n",
        "            if scheduler_loss:\n",
        "                scheduler.step(ave_loss)\n",
        "            else:\n",
        "                scheduler.step()\n",
        "            \n",
        "        print(\"Epoch %i, Average loss: %f, Train accuracy: %f\" % (epoch, ave_loss, train_accuracy))\n",
        "        \n",
        "    return loss_history, train_history"
      ],
      "execution_count": null,
      "outputs": []
    },
    {
      "cell_type": "code",
      "metadata": {
        "colab": {
          "base_uri": "https://localhost:8080/"
        },
        "id": "Trm489KckvxQ",
        "outputId": "62aea6dd-f070-46df-dcad-cd4d505ffa69"
      },
      "source": [
        "train_loader = torch.utils.data.DataLoader(dataset, batch_size=128)\n",
        "best_model = nn.Sequential(\n",
        "            nn.Linear(dataset.num_tokens, wordvec_dim, bias=False),\n",
        "            nn.Linear(wordvec_dim, dataset.num_tokens, bias=False), \n",
        "         )\n",
        "best_model.type(torch.FloatTensor)\n",
        "\n",
        "optimizer = optim.SGD(best_model.parameters(), lr=20, weight_decay=0)\n",
        "scheduler = optim.lr_scheduler.ReduceLROnPlateau(optimizer, factor=0.3, patience=2)\n",
        "loss_history, train_history = train_model(best_model, dataset, train_loader, optimizer, 50, scheduler, True)"
      ],
      "execution_count": null,
      "outputs": [
        {
          "output_type": "stream",
          "text": [
            "Epoch 0, Average loss: 9.890167, Train accuracy: 0.000796\n",
            "Epoch 1, Average loss: 9.863729, Train accuracy: 0.002195\n",
            "Epoch 2, Average loss: 9.741065, Train accuracy: 0.002404\n",
            "Epoch 3, Average loss: 9.591003, Train accuracy: 0.002670\n",
            "Epoch 4, Average loss: 9.477130, Train accuracy: 0.002720\n",
            "Epoch 5, Average loss: 9.381524, Train accuracy: 0.003742\n",
            "Epoch 6, Average loss: 9.284903, Train accuracy: 0.004636\n",
            "Epoch 7, Average loss: 9.208968, Train accuracy: 0.005929\n",
            "Epoch 8, Average loss: 9.106333, Train accuracy: 0.007715\n",
            "Epoch 9, Average loss: 9.027069, Train accuracy: 0.009710\n",
            "Epoch 10, Average loss: 8.960301, Train accuracy: 0.010431\n",
            "Epoch 11, Average loss: 8.887419, Train accuracy: 0.012271\n",
            "Epoch 12, Average loss: 8.814947, Train accuracy: 0.014341\n",
            "Epoch 13, Average loss: 8.756697, Train accuracy: 0.014818\n",
            "Epoch 14, Average loss: 8.712296, Train accuracy: 0.016151\n",
            "Epoch 15, Average loss: 8.663463, Train accuracy: 0.017209\n",
            "Epoch 16, Average loss: 8.632468, Train accuracy: 0.017972\n",
            "Epoch 17, Average loss: 8.617990, Train accuracy: 0.018057\n",
            "Epoch 18, Average loss: 8.570343, Train accuracy: 0.019203\n",
            "Epoch 19, Average loss: 8.573777, Train accuracy: 0.019804\n",
            "Epoch 20, Average loss: 8.535372, Train accuracy: 0.020740\n",
            "Epoch 21, Average loss: 8.510859, Train accuracy: 0.020093\n",
            "Epoch 22, Average loss: 8.495374, Train accuracy: 0.021265\n",
            "Epoch 23, Average loss: 8.476273, Train accuracy: 0.021184\n",
            "Epoch 24, Average loss: 8.475063, Train accuracy: 0.021241\n",
            "Epoch 25, Average loss: 8.458091, Train accuracy: 0.021495\n",
            "Epoch 26, Average loss: 8.421635, Train accuracy: 0.023320\n",
            "Epoch 27, Average loss: 8.429252, Train accuracy: 0.022336\n",
            "Epoch 28, Average loss: 8.405616, Train accuracy: 0.022406\n",
            "Epoch 29, Average loss: 8.416897, Train accuracy: 0.022923\n",
            "Epoch 30, Average loss: 8.392199, Train accuracy: 0.022582\n",
            "Epoch 31, Average loss: 8.387702, Train accuracy: 0.023314\n",
            "Epoch 32, Average loss: 8.371139, Train accuracy: 0.023928\n",
            "Epoch 33, Average loss: 8.359302, Train accuracy: 0.024324\n",
            "Epoch 34, Average loss: 8.378705, Train accuracy: 0.024274\n",
            "Epoch 35, Average loss: 8.332654, Train accuracy: 0.024511\n",
            "Epoch 36, Average loss: 8.358619, Train accuracy: 0.024559\n",
            "Epoch 37, Average loss: 8.348875, Train accuracy: 0.023986\n",
            "Epoch 38, Average loss: 8.355195, Train accuracy: 0.023691\n",
            "Epoch 39, Average loss: 8.426121, Train accuracy: 0.031091\n",
            "Epoch 40, Average loss: 8.110047, Train accuracy: 0.033805\n",
            "Epoch 41, Average loss: 8.036643, Train accuracy: 0.034332\n",
            "Epoch 42, Average loss: 7.975849, Train accuracy: 0.033819\n",
            "Epoch 43, Average loss: 7.956847, Train accuracy: 0.033780\n",
            "Epoch 44, Average loss: 7.917952, Train accuracy: 0.034315\n",
            "Epoch 45, Average loss: 7.912910, Train accuracy: 0.034190\n",
            "Epoch 46, Average loss: 7.885257, Train accuracy: 0.034410\n",
            "Epoch 47, Average loss: 7.869132, Train accuracy: 0.034351\n",
            "Epoch 48, Average loss: 7.854860, Train accuracy: 0.035145\n",
            "Epoch 49, Average loss: 7.854661, Train accuracy: 0.035470\n"
          ],
          "name": "stdout"
        }
      ]
    },
    {
      "cell_type": "code",
      "metadata": {
        "id": "5i1LjkZh5sBL",
        "colab": {
          "base_uri": "https://localhost:8080/",
          "height": 282
        },
        "outputId": "452b972d-8752-417b-95af-e84fd37ae1fc"
      },
      "source": [
        "# Visualize training graphs\n",
        "plt.subplot(211)\n",
        "plt.plot(train_history)\n",
        "plt.subplot(212)\n",
        "plt.plot(loss_history)"
      ],
      "execution_count": null,
      "outputs": [
        {
          "output_type": "execute_result",
          "data": {
            "text/plain": [
              "[<matplotlib.lines.Line2D at 0x7f8a36b7ad10>]"
            ]
          },
          "metadata": {
            "tags": []
          },
          "execution_count": 19
        },
        {
          "output_type": "display_data",
          "data": {
            "image/png": "[encoded data removed]",
            "text/plain": [
              "<Figure size 432x288 with 2 Axes>"
            ]
          },
          "metadata": {
            "tags": [],
            "needs_background": "light"
          }
        }
      ]
    },
    {
      "cell_type": "markdown",
      "metadata": {
        "id": "QKyp2ag65sBM"
      },
      "source": [
        "# Визуализируем вектора для разного вида слов до и после тренировки\n",
        "\n",
        "В случае успешной тренировки вы должны увидеть как вектора слов разных типов (например, знаков препинания, предлогов и остальных) разделяются семантически.\n",
        "\n",
        "Студенты - в качестве выполненного задания присылайте notebook с диаграммами!"
      ]
    },
    {
      "cell_type": "code",
      "metadata": {
        "id": "eGI0OLnO5sBM",
        "colab": {
          "base_uri": "https://localhost:8080/",
          "height": 941
        },
        "outputId": "b733798b-fcb9-4f56-e124-56dc488545c2"
      },
      "source": [
        "trained_input_vectors, trained_output_vectors = extract_word_vectors(best_model)\n",
        "assert trained_input_vectors.shape == (data.num_tokens(), wordvec_dim)\n",
        "assert trained_output_vectors.shape == (data.num_tokens(), wordvec_dim)\n",
        "\n",
        "def visualize_vectors(input_vectors, output_vectors, title=''):\n",
        "    full_vectors = torch.cat((input_vectors, output_vectors), 0)\n",
        "    wordvec_embedding = PCA(n_components=2).fit_transform(full_vectors)\n",
        "\n",
        "    # Helpful words form CS244D example\n",
        "    # http://cs224d.stanford.edu/assignment1/index.html\n",
        "    visualize_words = {'green': [\"the\", \"a\", \"an\"], \n",
        "                      'blue': [\",\", \".\", \"?\", \"!\", \"``\", \"''\", \"--\"], \n",
        "                      'brown': [\"good\", \"great\", \"cool\", \"brilliant\", \"wonderful\", \n",
        "                              \"well\", \"amazing\", \"worth\", \"sweet\", \"enjoyable\"],\n",
        "                      'orange': [\"boring\", \"bad\", \"waste\", \"dumb\", \"annoying\", \"stupid\"],\n",
        "                      'red': ['tell', 'told', 'said', 'say', 'says', 'tells', 'goes', 'go', 'went']\n",
        "                     }\n",
        "\n",
        "    plt.figure(figsize=(7,7))\n",
        "    plt.suptitle(title)\n",
        "    for color, words in visualize_words.items():\n",
        "        points = np.array([wordvec_embedding[data.index_by_token[w]] for w in words])\n",
        "        for i, word in enumerate(words):\n",
        "            plt.text(points[i, 0], points[i, 1], word, color=color,horizontalalignment='center')\n",
        "        plt.scatter(points[:, 0], points[:, 1], c=color, alpha=0.3, s=0.5)\n",
        "\n",
        "visualize_vectors(untrained_input_vectors, untrained_output_vectors, \"Untrained word vectors\")\n",
        "visualize_vectors(trained_input_vectors, trained_output_vectors, \"Trained word vectors\")"
      ],
      "execution_count": null,
      "outputs": [
        {
          "output_type": "display_data",
          "data": {
            "image/png": "[encoded data removed]",
            "text/plain": [
              "<Figure size 504x504 with 1 Axes>"
            ]
          },
          "metadata": {
            "tags": [],
            "needs_background": "light"
          }
        },
        {
          "output_type": "display_data",
          "data": {
            "image/png": "[encoded data removed]",
            "text/plain": [
              "<Figure size 504x504 with 1 Axes>"
            ]
          },
          "metadata": {
            "tags": [],
            "needs_background": "light"
          }
        }
      ]
    },
    {
      "cell_type": "code",
      "metadata": {
        "id": "huJUt5185sBN"
      },
      "source": [
        ""
      ],
      "execution_count": null,
      "outputs": []
    }
  ]
}